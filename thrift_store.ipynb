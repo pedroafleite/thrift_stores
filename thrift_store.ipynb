{
 "cells": [
  {
   "cell_type": "markdown",
   "metadata": {},
   "source": [
    "# Data Analysis and Strategy for Thrift Stores\n",
    "\n",
    "### Table of contents\n",
    "1. [Introduction and Data Description](#1.-introduction-and-data-description)\n",
    "    - 1.1 [What are our first impressions?](#1.1-what-are-our-first-impressions?)\n",
    "                    \n",
    "2. [Data Cleaning](#2.-data-cleaning)\n",
    "    - 2.1 [Thrift B](#2.1-thrift-b)\n",
    "    - 2.2 [Thrift A and C](#2.2-thrift-a-and-c)\n",
    "            \n",
    "3. [Exploratory Data Analysis](#3.-exploratory-data-analysis)\n",
    "    - 3.1 [Thrift B](#3.1-thrift-b)\n",
    "    - 3.2 [Thrift A and C](#3.2-thrift-a-and-c)\n",
    "    - 3.3 [Conclusions of Exploratory Data Analysis](#3.3-conclusions-of-exploratory-data-analysis)\n",
    "    - 3.4 [Recommendations for Future Datasets](#3.4-recommendations-for-future-datasets)\n",
    "            \n",
    "4. [Natural Language Processing (NLP)](#4.-natural-language-processing-nlp)\n",
    "    - 4.1 [Wordcloud](#4.1-wordcloud)\n",
    "    - 4.2 [Bag-of-Words](#4.2-bag-of-words)\n",
    "       - 4.2.1 [Defining a new categorical variable](#4.2.1-defining-a-new-categorical-variable)\n",
    "       - 4.2.2 [Training and Testing Data](#4.2.2-training-and-testing-data)\n",
    "       - 4.2.3 [Tokenization](#4.2.3-tokenization)\n",
    "       \n",
    "5. [Conclusions](#5.-conclusions)"
   ]
  },
  {
   "cell_type": "markdown",
   "metadata": {},
   "source": [
    "## 1. Introduction and Data Description\n",
    " \n",
    "Our objective here is to perform a statistical analysis that will help a newly opened thrift store to make efficient and profitful businesses decisions. \n",
    "\n",
    "That are three different Thrift Stores: A, B and C. \n",
    "\n",
    "For didactic purposes, the the order of analysis of each Thrift Store will be somewhat shuffled midway to give the logical perspective of the data analysis. Firstly, we will clear the data and explore the Thrift Store B dataset. Only after going through Thrift Store B, we will go for Thrift Stores A and C. The reasoning for this re-ordering will be naturally explained during the data analysis. Then, we will evaluate the data holistically and take (1) broad conclusions for the thrift store market and (2) specific conclusions for each thrift store."
   ]
  },
  {
   "cell_type": "code",
   "execution_count": 1,
   "metadata": {},
   "outputs": [],
   "source": [
    "#Import libraries\n",
    "import pandas as pd # data processing, CSV file I/O (e.g. pd.read_csv)\n",
    "import numpy as np # linear algebra\n",
    "import seaborn as sns\n",
    "import matplotlib.pyplot as plt\n",
    "import statsmodels\n",
    "import mglearn\n",
    "from PIL import Image\n",
    "from wordcloud import WordCloud, STOPWORDS, ImageColorGenerator\n",
    "from altair import *"
   ]
  },
  {
   "cell_type": "markdown",
   "metadata": {},
   "source": [
    "The dataset does not have a `README.txt` file, so we will have to infer most of the meaning of the columns.\n",
    "\n",
    "Let's have a quick overview at all three thrift stores, to see if their components and columns match. Let' also check whether the datasets can be integrated with each other."
   ]
  },
  {
   "cell_type": "code",
   "execution_count": 2,
   "metadata": {},
   "outputs": [
    {
     "name": "stdout",
     "output_type": "stream",
     "text": [
      "          id                marca                nomeDaPeca  precoComDesconto  \\\n",
      "0      21244  D&g Dolce & Gabbana      Óculos Lente Azulada             320.0   \n",
      "1       9981             Givenchy          Bolsa Coral Saco            2050.0   \n",
      "2      84176            Joe Fresh       Camisa Xadrez Verde              63.0   \n",
      "3      47475                Mixed   Calça Alfaiataria Preta             140.0   \n",
      "4      74864                 Zara     Vestido Jeans Babados              60.0   \n",
      "...      ...                  ...                       ...               ...   \n",
      "56656   6109                Mixed        Camiseta Bothanica             207.0   \n",
      "56657  70968                Mixed          Blusa Seda Preta             190.0   \n",
      "56658  86400       Toca do Coelho      Body Verde Palmeiras              40.0   \n",
      "56659  87138         Bazar Genial  Babador Atoalhado Branco              12.0   \n",
      "56660   9561                 Farm     Saia Recortes Estampa              75.0   \n",
      "\n",
      "       precoSemDesconto                                          Descricao  \\\n",
      "0                1120.0  Óculos preto. Possui uma lente só em degradê. ...   \n",
      "1                4000.0  Bolsa coral de couro. Possui costuras aparente...   \n",
      "2                 310.0  Camisa xadrez nas cores verde e branco. Possui...   \n",
      "3                 490.0  Calça de alfaiataria na cor preta. Possui mode...   \n",
      "4                 130.0  Vestido jeans em lavagem clara. Possui modelag...   \n",
      "...                 ...                                                ...   \n",
      "56656             690.0  Blusinha preta. com gola arredondada; Estampa ...   \n",
      "56657             620.0  Blusa na cor preta. Possui manga de renda com ...   \n",
      "56658               NaN  Body na cor verde estampa modelagem. Possui mo...   \n",
      "56659               NaN  Babador na cor branca. Possuí modelagem redond...   \n",
      "56660             225.0  Saia mini com estampa multicolorida. Possui de...   \n",
      "\n",
      "      Tamanho           Condicao               Cores  Disponível     Data  \\\n",
      "0           U              Usado          \\nPreto \\n     VENDIDO  28:36.5   \n",
      "1           U              Usado          \\nCoral \\n         NaN  42:03.6   \n",
      "2           P              Usado          \\nVerde \\n         NaN  44:38.9   \n",
      "3          34              Usado          \\nPreto \\n         NaN  50:45.9   \n",
      "4           P              Usado          \\nJeans \\n     VENDIDO  51:04.5   \n",
      "...       ...                ...                 ...         ...      ...   \n",
      "56656       G  Novo com etiqueta  \\nPreto \\nVerde \\n     VENDIDO  15:39.7   \n",
      "56657       M              Usado          \\nPreto \\n  DISPONIVEL  15:41.2   \n",
      "56658      3M              Usado                 NaN     VENDIDO  41:18.1   \n",
      "56659       U              Usado         \\nBranco \\n  DISPONIVEL  15:43.0   \n",
      "56660       G              Usado  \\nMulticolorido \\n     VENDIDO  15:44.0   \n",
      "\n",
      "           Status  \n",
      "0      VERIFICADO  \n",
      "1      VERIFICADO  \n",
      "2      VERIFICADO  \n",
      "3      VERIFICADO  \n",
      "4      VERIFICADO  \n",
      "...           ...  \n",
      "56656  VERIFICADO  \n",
      "56657  VERIFICADO  \n",
      "56658  VERIFICADO  \n",
      "56659  VERIFICADO  \n",
      "56660  VERIFICADO  \n",
      "\n",
      "[56661 rows x 12 columns]\n"
     ]
    }
   ],
   "source": [
    "#import Thrift Store A\n",
    "thrift_a=pd.read_csv(\"C:/Users/Pedro/Documents/Python Scripts/Thrift stores/fixed typos/Thrift_Store_A.csv\", sep=\";\", encoding='ISO-8859-1')\n",
    "print(thrift_a)"
   ]
  },
  {
   "cell_type": "code",
   "execution_count": 3,
   "metadata": {},
   "outputs": [
    {
     "name": "stdout",
     "output_type": "stream",
     "text": [
      "          id        marca  precoComDesconto  precoSemDesconto  \\\n",
      "0      24427       nativa             49.99            100.00   \n",
      "1      60509          mob            139.97            449.90   \n",
      "2      42602         farm             74.70            249.00   \n",
      "3      41552   pure knite             25.25            135.00   \n",
      "4      60624         zara             26.21            189.90   \n",
      "...      ...          ...               ...               ...   \n",
      "60290  50079  clock house             27.20             80.00   \n",
      "60291  38714        magia             21.48             85.90   \n",
      "60292  41740         zara             27.00             89.99   \n",
      "60293  35819      oshkosh             10.00             29.99   \n",
      "60294  74181   forever 21             29.44            117.75   \n",
      "\n",
      "                                               Descricao Tamanho  \\\n",
      "0      Sandália anabela de tecido laminado vazado, fe...      37   \n",
      "1      Vestido camisa xadrez, com mangas 7/8. Bolsos ...       m   \n",
      "2      Vestido Farm cor verde militar, comprimento cu...       p   \n",
      "3      Colete em crochê, cor marrom claro, modelo com...       m   \n",
      "4      Vestido reto de tecido plano laranja escuro, c...      pp   \n",
      "...                                                  ...     ...   \n",
      "60290  Calça jeans com modelagem skinny, com dois bol...      44   \n",
      "60291  Vestido longo, com estampa floral colorida, da...       m   \n",
      "60292  Camisa branca, com bolso único na regiÃ£o do t...     18m   \n",
      "60293  Camisetinha raglan com decote fechado, manga c...       3   \n",
      "60294  Blusa feminina , verde, da Forever 21. Tecido ...       m   \n",
      "\n",
      "                Condicao     Cores                   Composicao  \\\n",
      "0      gentilmente usada   laranja              Tecido laminado   \n",
      "1      gentilmente usada  colorido        55% linho 45% algodão   \n",
      "2      nova com etiqueta     verde               100% poliéster   \n",
      "3      gentilmente usada    marrom                 sem etiqueta   \n",
      "4      gentilmente usada   laranja               100% poliéster   \n",
      "...                  ...       ...                          ...   \n",
      "60290  gentilmente usada      azul                 sem etiqueta   \n",
      "60291  gentilmente usada  colorido   87% poliamida 13% elastano   \n",
      "60292  gentilmente usada    branco       80% AlgodÃ£o 20% Linho   \n",
      "60293  gentilmente usada  colorido  85% poliéster, 15% elastano   \n",
      "60294  gentilmente usada     verde               100% Poliéster   \n",
      "\n",
      "                                                 Medidas  ...     Data  \\\n",
      "0                                           Salto - 12cm  ...  13:33.0   \n",
      "1      Busto: 48 cm Cintura: 44 cm Quadril: 48 cm Com...  ...  13:37.1   \n",
      "2      Busto: 40 cm Cintura: 32 cm Quadril: 42 cm Com...  ...  13:38.3   \n",
      "3             Busto: 53 cm Cintura: 60 cm Quadril: 68 cm  ...  13:40.4   \n",
      "4      Busto: 44 cm Cintura: 46 cm Quadril: 50 cm Com...  ...  13:42.0   \n",
      "...                                                  ...  ...      ...   \n",
      "60290  Cintura: 44 cm Quadril: 52 cm Comprimento: 107 cm  ...  05:27.1   \n",
      "60291  Busto: 39 cm Cintura: 37 cm Quadril: 59 cm Com...  ...  05:32.7   \n",
      "60292     Busto: 30 cm Cintura: 30 cm Comprimento: 35 cm  ...  05:41.9   \n",
      "60293                Busto 28cm, cintura 26cm, comp 38cm  ...  05:44.4   \n",
      "60294  Busto: 51 cm Cintura: 54 cm Quadril: 56 cm Com...  ...  05:47.0   \n",
      "\n",
      "           Status PalavraChave1 PalavraChave2 PalavraChave3 PalavraChave4  \\\n",
      "0      VERIFICADO       Anabela          Laço       Laranja                 \n",
      "1      VERIFICADO       Vestido        Camisa        Xadrez           Mob   \n",
      "2      VERIFICADO       Vestido         Verde       Militar          Farm   \n",
      "3      VERIFICADO        Colete            de        Crochê        Marrom   \n",
      "4      VERIFICADO       Vestido       Laranja           com      Bolinhas   \n",
      "...           ...           ...           ...           ...           ...   \n",
      "60290  VERIFICADO         Calça         Jeans        Skinny         Clock   \n",
      "60291  VERIFICADO       Vestido         Longo        Floral         Magia   \n",
      "60292  VERIFICADO        Camisa        Branca          Zara                 \n",
      "60293  VERIFICADO      Camiseta      Infantil        Raglan                 \n",
      "60294  VERIFICADO         Blusa         Verde       Forever            21   \n",
      "\n",
      "      PalavraChave5 PalavraChave6 PalavraChave7 PalavraChave8  \n",
      "0                                                              \n",
      "1                                                              \n",
      "2                                                              \n",
      "3             Claro                                            \n",
      "4             Azuis                                            \n",
      "...             ...           ...           ...           ...  \n",
      "60290         House                                            \n",
      "60291                                                          \n",
      "60292                                                          \n",
      "60293                                                          \n",
      "60294                                                          \n",
      "\n",
      "[60295 rows x 21 columns]\n"
     ]
    }
   ],
   "source": [
    "#import Thrift Store B\n",
    "thrift_b=pd.read_csv(\"C:/Users/Pedro/Documents/Python Scripts/Thrift stores/fixed typos/Thrift_Store_B.csv\", sep=\";\", encoding='ISO-8859-1')\n",
    "print(thrift_b)"
   ]
  },
  {
   "cell_type": "code",
   "execution_count": 4,
   "metadata": {},
   "outputs": [
    {
     "name": "stdout",
     "output_type": "stream",
     "text": [
      "         id           marca                     nomeDaPeca  precoComDesconto  \\\n",
      "0     22701       Taverniti        Jaqueta Jeans Taverniti             199.0   \n",
      "1     22703       Sem Marca      Camisa Estampada Colorida             129.0   \n",
      "2     22705   Robert Pierre          Bermuda Robert Pierre              49.0   \n",
      "3     22442  Croft & Barrow  Camisa Vintage Croft & Barrow             129.0   \n",
      "4     22443          Boo Jo          Camisa Vintage Boo Jo             129.0   \n",
      "...     ...             ...                            ...               ...   \n",
      "1915  14291         Lay Out                 Camisa Lay Out              25.0   \n",
      "1916  22486         Puritan      Camisa Vermelha Estampada             129.0   \n",
      "1917  22491    Falls Creack    Camisa Vintage Falls Creeck             129.0   \n",
      "1918  22496       Sem Marca         Blusão Bomber Colorido             199.0   \n",
      "1919  22498       Sem Marca     Bomber Jacket Candy Colors             249.0   \n",
      "\n",
      "      precoSemDesconto                                          Descricao  \\\n",
      "0                199.0  Jaqueta oversized jeans escuro, garimpada em B...   \n",
      "1                129.0  Camisa vintage com estampa colorida, de manga ...   \n",
      "2                 49.0  Bermuda jeans cinza, vintage, com cinco bolsos...   \n",
      "3                129.0  Camisa vintage com estampa tropical, garimpada...   \n",
      "4                129.0  Camisa vintage estampada, garimpada em Buenos ...   \n",
      "...                ...                                                ...   \n",
      "1915              40.0  Camisa estampada de manga comprida com um bols...   \n",
      "1916             129.0  Camisa vintage, garimpada em Buenos Aires, Arg...   \n",
      "1917             129.0  Camisa vintage, garimpada em Buenos Aires, Arg...   \n",
      "1918             199.0  Blusão estilo bomber, com recortes coloridos. ...   \n",
      "1919             249.0  Jaqueta bomber oversized, com recortes colorid...   \n",
      "\n",
      "     Tamanho Condicao  Cores  Disponível     Data      Status  \n",
      "0          M  Vintage    NaN  DISPONIVEL  46:38.3  VERIFICADO  \n",
      "1          G  Vintage    NaN  DISPONIVEL  49:11.0  VERIFICADO  \n",
      "2         42  Vintage    NaN  DISPONIVEL  46:21.3  VERIFICADO  \n",
      "3          G  Vintage    NaN  DISPONIVEL  46:55.0  VERIFICADO  \n",
      "4          M  Vintage    NaN  DISPONIVEL  49:27.8  VERIFICADO  \n",
      "...      ...      ...    ...         ...      ...         ...  \n",
      "1915       G  Vintage    NaN     VENDIDO  44:54.9  VERIFICADO  \n",
      "1916       G  Vintage    NaN     VENDIDO  22:29.3  VERIFICADO  \n",
      "1917       G  Vintage    NaN     VENDIDO  58:35.5  VERIFICADO  \n",
      "1918       M  Vintage    NaN     VENDIDO  24:13.7  VERIFICADO  \n",
      "1919       G  Vintage    NaN     VENDIDO  42:27.9  VERIFICADO  \n",
      "\n",
      "[1920 rows x 12 columns]\n"
     ]
    }
   ],
   "source": [
    "#Import Thrift Store C\n",
    "thrift_c=pd.read_csv(\"C:/Users/Pedro/Documents/Python Scripts/Thrift stores/fixed typos/Thrift_Store_C.csv\", sep=\";\", encoding='ISO-8859-1')\n",
    "print(thrift_c)"
   ]
  },
  {
   "cell_type": "code",
   "execution_count": 5,
   "metadata": {},
   "outputs": [
    {
     "name": "stdout",
     "output_type": "stream",
     "text": [
      "Index(['id', 'marca', 'nomeDaPeca', 'precoComDesconto', 'precoSemDesconto',\n",
      "       'Descricao', 'Tamanho', 'Condicao', 'Cores', 'Disponível', 'Data',\n",
      "       'Status'],\n",
      "      dtype='object')\n",
      "Index(['id', 'marca', 'precoComDesconto', 'precoSemDesconto', 'Descricao',\n",
      "       'Tamanho', 'Condicao', 'Cores', 'Composicao', 'Medidas', 'Disponível',\n",
      "       'Data', 'Status', 'PalavraChave1', 'PalavraChave2', 'PalavraChave3',\n",
      "       'PalavraChave4', 'PalavraChave5', 'PalavraChave6', 'PalavraChave7',\n",
      "       'PalavraChave8'],\n",
      "      dtype='object')\n",
      "Index(['id', 'marca', 'nomeDaPeca', 'precoComDesconto', 'precoSemDesconto',\n",
      "       'Descricao', 'Tamanho', 'Condicao', 'Cores', 'Disponível', 'Data',\n",
      "       'Status'],\n",
      "      dtype='object')\n"
     ]
    }
   ],
   "source": [
    "#Display column names\n",
    "print(thrift_a.columns)\n",
    "print(thrift_b.columns)\n",
    "print(thrift_c.columns)"
   ]
  },
  {
   "cell_type": "markdown",
   "metadata": {},
   "source": [
    "### 1.1 What are our first impressions?\n",
    "                                                                \n",
    "- `id`: Number of identification.                      \n",
    "- `marca`: *Brand*.\n",
    "- `nomeDaPeca`: *Name of the piece of clothing*. It is a full sentence describing in a few words the pieces of clothing in Thrift Stores A and C. Thrift Store B dataset is lacking the `nomeDaPeca` field. \n",
    "- `precoComDesconto`: *Discount price*. Currency in reais.\n",
    "- `precoSemDesconto`: *Full price (without discount)*. Currency in reais.\n",
    "- `Descricao`: *Description*. Detailed description of the object being sold. It might contain whether it has pockets, where it was brought, some measuments, whether there are defects in the piece, what kind of cloth it was made of, and so on.\n",
    "- `Tamanho`: *Size*. In characters (PP, P, M, G, GG) and numbers (38, 39, 40...) depending on the type of clothing.\n",
    "- `Condicao`: *Condition*. For Thrift Stores A and B, it states whether the piece is new or used, and if used, *how* used. In Thrift Store C, the whole column reads `Vintage` (which does not seem to be useful).\n",
    "- `Cores`: *Colours*. In Thrift Store A, the column seems to correctly express the colour of the pieces. In Thrift Store B, the column seems to be correctly filled by the corresponding colour of the pieces of clothing. In Thrift Store C, the column is empty.\n",
    "- `Disponível`: *Available.* It states whether the item is `DISPONíVEL` (available) or `VENDIDO` (sold).\n",
    "- `Data`: *Date*. Turns out to be a non-sensical field, since it does not seem to refer to any common data terminology. It will not be useful.\n",
    "- `Status`: For all items, it states a standard `VERIFICADO` (verified), probably meaning that the data input was inserted into the database.\n",
    "- `PalavraChave`. *Keyword*. It apparently corresponds to the dismemberment of a full descriptive sentence regarding the product being sold, with the multiple instances of `PalavraChave1`, 2, 3, and so on, being able to be understood if fully merged in one sentence.\n",
    "\n",
    "\n",
    "## 2. Data cleaning \n",
    "### 2.1 Thrift B\n",
    "\n",
    "Multiple `PalavraChave`s (keywords) fields are present at Thrift Store B and the combination of these should be stored as a nomeDaPeca column.\n",
    "These `PalavraChave`s (*keywords*) seem to aggregate to full sentences that would be properly placed under the \"nomeDaPeca\" field. In portuguese, nouns are generally the first word in the sentence, while adjectives come later. From these keywords, we can establish semantically that the first word of these keywords (\"PalavraChave1\") would be a noun. On the other hand, this syntax would not be possible in English, in which adjectives come first, and the noun varies as a first, second or third word; which would make our work harder.\n",
    "\n",
    "Therefore, given that most of these points revolve around Thrift Store B, we will start from there.\n",
    "\n",
    "It should be acknowledged that there were incongruencies given the special characters used in portuguese - such as á, ã, ç, ó, õ, é, and so on - that were changed to code in the original dataset. Since I'm a native portuguese speaker, I did a prior data cleaning on all datasets by fixing the special characters back to their accentuated forms using the \"Find\" tool in Excel. Other systematic typos were also corrected via Excel. \n",
    "On future analyses, I probably won't shy away from using Excel again for exploring the data at the beggining of the analysis, especially in cases such that the problem isn't so complex and the dataset is easy to survey."
   ]
  },
  {
   "cell_type": "code",
   "execution_count": 6,
   "metadata": {},
   "outputs": [
    {
     "name": "stdout",
     "output_type": "stream",
     "text": [
      "      PalavraChave1 PalavraChave2 PalavraChave3 PalavraChave4 PalavraChave5  \\\n",
      "0           Anabela          Laço       Laranja                               \n",
      "1           Vestido        Camisa        Xadrez           Mob                 \n",
      "2           Vestido         Verde       Militar          Farm                 \n",
      "3            Colete            de        Crochê        Marrom         Claro   \n",
      "4           Vestido       Laranja           com      Bolinhas         Azuis   \n",
      "...             ...           ...           ...           ...           ...   \n",
      "60290         Calça         Jeans        Skinny         Clock         House   \n",
      "60291       Vestido         Longo        Floral         Magia                 \n",
      "60292        Camisa        Branca          Zara                               \n",
      "60293      Camiseta      Infantil        Raglan                               \n",
      "60294         Blusa         Verde       Forever            21                 \n",
      "\n",
      "      PalavraChave6 PalavraChave7 PalavraChave8  \n",
      "0                                                \n",
      "1                                                \n",
      "2                                                \n",
      "3                                                \n",
      "4                                                \n",
      "...             ...           ...           ...  \n",
      "60290                                            \n",
      "60291                                            \n",
      "60292                                            \n",
      "60293                                            \n",
      "60294                                            \n",
      "\n",
      "[60295 rows x 8 columns]\n",
      "                                     nomeDaPeca\n",
      "0                Anabela Laço Laranja          \n",
      "1             Vestido Camisa Xadrez Mob        \n",
      "2            Vestido Verde Militar Farm        \n",
      "3           Colete de Crochê Marrom Claro      \n",
      "4      Vestido Laranja com Bolinhas Azuis      \n",
      "...                                         ...\n",
      "60290      Calça Jeans Skinny Clock House      \n",
      "60291        Vestido Longo Floral Magia        \n",
      "60292              Camisa Branca Zara          \n",
      "60293        Camiseta Infantil Raglan          \n",
      "60294            Blusa Verde Forever 21        \n",
      "\n",
      "[60295 rows x 1 columns]\n"
     ]
    }
   ],
   "source": [
    "#create a new column for 'nomeDaPeca' by summing up multiple PalavraChave columns\n",
    "thrift_b_nome = thrift_b[['PalavraChave1', 'PalavraChave2', 'PalavraChave3', 'PalavraChave4', 'PalavraChave5', 'PalavraChave6', 'PalavraChave7', 'PalavraChave8']].copy()\n",
    "thrift_b_nome2 = thrift_b_nome.stack().groupby(level=0).apply(' '.join).to_frame('nomeDaPeca')\n",
    "print(thrift_b_nome)\n",
    "print(thrift_b_nome2)"
   ]
  },
  {
   "cell_type": "code",
   "execution_count": 10,
   "metadata": {},
   "outputs": [
    {
     "name": "stdout",
     "output_type": "stream",
     "text": [
      "(60295, 22)\n",
      "(60295, 8)\n"
     ]
    }
   ],
   "source": [
    "#Check whether these are compatible row numbers, so we can merge both dataframes\n",
    "print(thrift_b.shape)\n",
    "print(thrift_b_nome.shape)"
   ]
  },
  {
   "cell_type": "code",
   "execution_count": 11,
   "metadata": {},
   "outputs": [
    {
     "name": "stdout",
     "output_type": "stream",
     "text": [
      "Index(['id', 'marca', 'nomeDaPeca', 'precoComDesconto', 'precoSemDesconto',\n",
      "       'Descricao', 'Tamanho', 'Condicao', 'Cores', 'Composicao', 'Medidas',\n",
      "       'Disponível', 'Data', 'Status', 'PalavraChave1', 'PalavraChave2',\n",
      "       'PalavraChave3', 'PalavraChave4', 'PalavraChave5', 'PalavraChave6',\n",
      "       'PalavraChave7', 'PalavraChave8'],\n",
      "      dtype='object')\n"
     ]
    }
   ],
   "source": [
    "# Add \"nomeDaPeca\" as a new column\n",
    "thrift_b_nome2['nomeDaPeca'].values\n",
    "thrift_b['nomeDaPeca'] = thrift_b_nome2['nomeDaPeca']\n",
    "\n",
    "#rearranging columns so that 'nomeDaPeca' can be at 3rd place, instead of the last\n",
    "thrift_b = thrift_b[['id', 'marca', 'nomeDaPeca', 'precoComDesconto', 'precoSemDesconto', 'Descricao', 'Tamanho', 'Condicao', 'Cores', 'Composicao', 'Medidas', 'Disponível', 'Data', 'Status', 'PalavraChave1', 'PalavraChave2', 'PalavraChave3', 'PalavraChave4', 'PalavraChave5', 'PalavraChave6', 'PalavraChave7', 'PalavraChave8']]\n",
    "print(thrift_b.columns)"
   ]
  },
  {
   "cell_type": "markdown",
   "metadata": {},
   "source": [
    "### 2.2 Data cleaning: Thrift Stores A and C\n",
    "\n",
    "Now that we have surveyed a bit of the Thrift B dataset, we shall evaluate Thrift Stores A and C.\n",
    "It will be interesting to merge all three datasets for further analyses. To do this, we will have to create a similar-sized matrix for all datasets. Let's recapitulate the shape of each dataset to see what needs to be done."
   ]
  },
  {
   "cell_type": "code",
   "execution_count": 12,
   "metadata": {},
   "outputs": [
    {
     "name": "stdout",
     "output_type": "stream",
     "text": [
      "(56661, 12)\n",
      "(60295, 22)\n",
      "(1920, 12)\n",
      "Index(['id', 'marca', 'nomeDaPeca', 'precoComDesconto', 'precoSemDesconto',\n",
      "       'Descricao', 'Tamanho', 'Condicao', 'Cores', 'Disponível', 'Data',\n",
      "       'Status'],\n",
      "      dtype='object')\n",
      "Index(['id', 'marca', 'nomeDaPeca', 'precoComDesconto', 'precoSemDesconto',\n",
      "       'Descricao', 'Tamanho', 'Condicao', 'Cores', 'Composicao', 'Medidas',\n",
      "       'Disponível', 'Data', 'Status', 'PalavraChave1', 'PalavraChave2',\n",
      "       'PalavraChave3', 'PalavraChave4', 'PalavraChave5', 'PalavraChave6',\n",
      "       'PalavraChave7', 'PalavraChave8'],\n",
      "      dtype='object')\n",
      "Index(['id', 'marca', 'nomeDaPeca', 'precoComDesconto', 'precoSemDesconto',\n",
      "       'Descricao', 'Tamanho', 'Condicao', 'Cores', 'Disponível', 'Data',\n",
      "       'Status'],\n",
      "      dtype='object')\n"
     ]
    }
   ],
   "source": [
    "print(thrift_a.shape)\n",
    "print(thrift_b.shape)\n",
    "print(thrift_c.shape)\n",
    "\n",
    "print(thrift_a.columns)\n",
    "print(thrift_b.columns)\n",
    "print(thrift_c.columns)\n"
   ]
  },
  {
   "cell_type": "markdown",
   "metadata": {},
   "source": [
    "Thrift Stores A and C lack all PalavraChave (keywords) fields. To fill those new columns, we shall dismember the nomeDaPeca (piece of clothing) field from each, in a process that is precisely the inverse of what we have done previously for the Thrift B dataset."
   ]
  },
  {
   "cell_type": "code",
   "execution_count": 13,
   "metadata": {},
   "outputs": [
    {
     "name": "stdout",
     "output_type": "stream",
     "text": [
      "              0            1          2    3    4    5    6\n",
      "0        Óculos        Lente    Azulada  NaN  NaN  NaN  NaN\n",
      "1         Bolsa        Coral       Saco  NaN  NaN  NaN  NaN\n",
      "2        Camisa       Xadrez      Verde  NaN  NaN  NaN  NaN\n",
      "3         Calça  Alfaiataria      Preta  NaN  NaN  NaN  NaN\n",
      "4       Vestido        Jeans    Babados  NaN  NaN  NaN  NaN\n",
      "...         ...          ...        ...  ...  ...  ...  ...\n",
      "56656  Camiseta    Bothanica        NaN  NaN  NaN  NaN  NaN\n",
      "56657     Blusa         Seda      Preta  NaN  NaN  NaN  NaN\n",
      "56658      Body        Verde  Palmeiras  NaN  NaN  NaN  NaN\n",
      "56659   Babador    Atoalhado     Branco  NaN  NaN  NaN  NaN\n",
      "56660      Saia     Recortes    Estampa  NaN  NaN  NaN  NaN\n",
      "\n",
      "[56661 rows x 7 columns]\n"
     ]
    }
   ],
   "source": [
    "#I would have to pick 'nomeDaPeca' and dismember it in multiple 'PalavraChaveX'.\n",
    "new_list = thrift_a['nomeDaPeca'].apply(lambda x : pd.Series(x.split(' ')))\n",
    "print(new_list)"
   ]
  },
  {
   "cell_type": "code",
   "execution_count": 14,
   "metadata": {},
   "outputs": [
    {
     "name": "stdout",
     "output_type": "stream",
     "text": [
      "            0          1          2       3       4    5    6\n",
      "0     Jaqueta      Jeans  Taverniti     NaN     NaN  NaN  NaN\n",
      "1      Camisa  Estampada   Colorida     NaN     NaN  NaN  NaN\n",
      "2     Bermuda     Robert     Pierre     NaN     NaN  NaN  NaN\n",
      "3      Camisa    Vintage      Croft       &  Barrow  NaN  NaN\n",
      "4      Camisa    Vintage        Boo      Jo     NaN  NaN  NaN\n",
      "...       ...        ...        ...     ...     ...  ...  ...\n",
      "1915   Camisa        Lay        Out     NaN     NaN  NaN  NaN\n",
      "1916   Camisa   Vermelha  Estampada     NaN     NaN  NaN  NaN\n",
      "1917   Camisa    Vintage      Falls  Creeck     NaN  NaN  NaN\n",
      "1918   Blusão     Bomber   Colorido     NaN     NaN  NaN  NaN\n",
      "1919   Bomber     Jacket      Candy  Colors     NaN  NaN  NaN\n",
      "\n",
      "[1920 rows x 7 columns]\n"
     ]
    }
   ],
   "source": [
    "new_list2= thrift_c['nomeDaPeca'].apply(lambda x : pd.Series(x.split(' ')))\n",
    "print(new_list2)"
   ]
  },
  {
   "cell_type": "code",
   "execution_count": 15,
   "metadata": {},
   "outputs": [
    {
     "name": "stdout",
     "output_type": "stream",
     "text": [
      "      PalavraChave1 PalavraChave2 PalavraChave3 PalavraChave4 PalavraChave5  \\\n",
      "0            Óculos         Lente       Azulada           NaN           NaN   \n",
      "1             Bolsa         Coral          Saco           NaN           NaN   \n",
      "2            Camisa        Xadrez         Verde           NaN           NaN   \n",
      "3             Calça   Alfaiataria         Preta           NaN           NaN   \n",
      "4           Vestido         Jeans       Babados           NaN           NaN   \n",
      "...             ...           ...           ...           ...           ...   \n",
      "56656      Camiseta     Bothanica           NaN           NaN           NaN   \n",
      "56657         Blusa          Seda         Preta           NaN           NaN   \n",
      "56658          Body         Verde     Palmeiras           NaN           NaN   \n",
      "56659       Babador     Atoalhado        Branco           NaN           NaN   \n",
      "56660          Saia      Recortes       Estampa           NaN           NaN   \n",
      "\n",
      "      PalavraChave6 PalavraChave7  \n",
      "0               NaN           NaN  \n",
      "1               NaN           NaN  \n",
      "2               NaN           NaN  \n",
      "3               NaN           NaN  \n",
      "4               NaN           NaN  \n",
      "...             ...           ...  \n",
      "56656           NaN           NaN  \n",
      "56657           NaN           NaN  \n",
      "56658           NaN           NaN  \n",
      "56659           NaN           NaN  \n",
      "56660           NaN           NaN  \n",
      "\n",
      "[56661 rows x 7 columns]\n",
      "     PalavraChave1 PalavraChave2 PalavraChave3 PalavraChave4 PalavraChave5  \\\n",
      "0          Jaqueta         Jeans     Taverniti           NaN           NaN   \n",
      "1           Camisa     Estampada      Colorida           NaN           NaN   \n",
      "2          Bermuda        Robert        Pierre           NaN           NaN   \n",
      "3           Camisa       Vintage         Croft             &        Barrow   \n",
      "4           Camisa       Vintage           Boo            Jo           NaN   \n",
      "...            ...           ...           ...           ...           ...   \n",
      "1915        Camisa           Lay           Out           NaN           NaN   \n",
      "1916        Camisa      Vermelha     Estampada           NaN           NaN   \n",
      "1917        Camisa       Vintage         Falls        Creeck           NaN   \n",
      "1918        Blusão        Bomber      Colorido           NaN           NaN   \n",
      "1919        Bomber        Jacket         Candy        Colors           NaN   \n",
      "\n",
      "     PalavraChave6 PalavraChave7  \n",
      "0              NaN           NaN  \n",
      "1              NaN           NaN  \n",
      "2              NaN           NaN  \n",
      "3              NaN           NaN  \n",
      "4              NaN           NaN  \n",
      "...            ...           ...  \n",
      "1915           NaN           NaN  \n",
      "1916           NaN           NaN  \n",
      "1917           NaN           NaN  \n",
      "1918           NaN           NaN  \n",
      "1919           NaN           NaN  \n",
      "\n",
      "[1920 rows x 7 columns]\n"
     ]
    }
   ],
   "source": [
    "#Rename columns to match thrift__b\n",
    "new_list.columns = ['PalavraChave1', 'PalavraChave2', 'PalavraChave3', 'PalavraChave4', 'PalavraChave5', 'PalavraChave6', 'PalavraChave7']\n",
    "new_list2.columns = ['PalavraChave1', 'PalavraChave2', 'PalavraChave3', 'PalavraChave4', 'PalavraChave5', 'PalavraChave6', 'PalavraChave7']\n",
    "print(new_list)\n",
    "print(new_list2)"
   ]
  },
  {
   "cell_type": "code",
   "execution_count": 16,
   "metadata": {},
   "outputs": [
    {
     "name": "stdout",
     "output_type": "stream",
     "text": [
      "      PalavraChave1 PalavraChave2 PalavraChave3 PalavraChave4 PalavraChave5  \\\n",
      "0            Óculos         Lente       Azulada           NaN           NaN   \n",
      "1             Bolsa         Coral          Saco           NaN           NaN   \n",
      "2            Camisa        Xadrez         Verde           NaN           NaN   \n",
      "3             Calça   Alfaiataria         Preta           NaN           NaN   \n",
      "4           Vestido         Jeans       Babados           NaN           NaN   \n",
      "...             ...           ...           ...           ...           ...   \n",
      "56656      Camiseta     Bothanica           NaN           NaN           NaN   \n",
      "56657         Blusa          Seda         Preta           NaN           NaN   \n",
      "56658          Body         Verde     Palmeiras           NaN           NaN   \n",
      "56659       Babador     Atoalhado        Branco           NaN           NaN   \n",
      "56660          Saia      Recortes       Estampa           NaN           NaN   \n",
      "\n",
      "      PalavraChave6 PalavraChave7  PalavraChave8  \n",
      "0               NaN           NaN            NaN  \n",
      "1               NaN           NaN            NaN  \n",
      "2               NaN           NaN            NaN  \n",
      "3               NaN           NaN            NaN  \n",
      "4               NaN           NaN            NaN  \n",
      "...             ...           ...            ...  \n",
      "56656           NaN           NaN            NaN  \n",
      "56657           NaN           NaN            NaN  \n",
      "56658           NaN           NaN            NaN  \n",
      "56659           NaN           NaN            NaN  \n",
      "56660           NaN           NaN            NaN  \n",
      "\n",
      "[56661 rows x 8 columns]\n",
      "     PalavraChave1 PalavraChave2 PalavraChave3 PalavraChave4 PalavraChave5  \\\n",
      "0          Jaqueta         Jeans     Taverniti           NaN           NaN   \n",
      "1           Camisa     Estampada      Colorida           NaN           NaN   \n",
      "2          Bermuda        Robert        Pierre           NaN           NaN   \n",
      "3           Camisa       Vintage         Croft             &        Barrow   \n",
      "4           Camisa       Vintage           Boo            Jo           NaN   \n",
      "...            ...           ...           ...           ...           ...   \n",
      "1915        Camisa           Lay           Out           NaN           NaN   \n",
      "1916        Camisa      Vermelha     Estampada           NaN           NaN   \n",
      "1917        Camisa       Vintage         Falls        Creeck           NaN   \n",
      "1918        Blusão        Bomber      Colorido           NaN           NaN   \n",
      "1919        Bomber        Jacket         Candy        Colors           NaN   \n",
      "\n",
      "     PalavraChave6 PalavraChave7  PalavraChave8  \n",
      "0              NaN           NaN            NaN  \n",
      "1              NaN           NaN            NaN  \n",
      "2              NaN           NaN            NaN  \n",
      "3              NaN           NaN            NaN  \n",
      "4              NaN           NaN            NaN  \n",
      "...            ...           ...            ...  \n",
      "1915           NaN           NaN            NaN  \n",
      "1916           NaN           NaN            NaN  \n",
      "1917           NaN           NaN            NaN  \n",
      "1918           NaN           NaN            NaN  \n",
      "1919           NaN           NaN            NaN  \n",
      "\n",
      "[1920 rows x 8 columns]\n"
     ]
    }
   ],
   "source": [
    "#Get another columns to be the same size as thrift_b\n",
    "new_list[\"PalavraChave8\"] = np.nan\n",
    "new_list2[\"PalavraChave8\"] = np.nan\n",
    "print(new_list)\n",
    "print(new_list2)"
   ]
  },
  {
   "cell_type": "code",
   "execution_count": 17,
   "metadata": {},
   "outputs": [
    {
     "name": "stdout",
     "output_type": "stream",
     "text": [
      "(56661, 12)\n",
      "(1920, 12)\n",
      "(56661, 8)\n",
      "(1920, 8)\n",
      "          id                marca                nomeDaPeca  precoComDesconto  \\\n",
      "0      21244  D&g Dolce & Gabbana      Óculos Lente Azulada             320.0   \n",
      "1       9981             Givenchy          Bolsa Coral Saco            2050.0   \n",
      "2      84176            Joe Fresh       Camisa Xadrez Verde              63.0   \n",
      "3      47475                Mixed   Calça Alfaiataria Preta             140.0   \n",
      "4      74864                 Zara     Vestido Jeans Babados              60.0   \n",
      "...      ...                  ...                       ...               ...   \n",
      "56656   6109                Mixed        Camiseta Bothanica             207.0   \n",
      "56657  70968                Mixed          Blusa Seda Preta             190.0   \n",
      "56658  86400       Toca do Coelho      Body Verde Palmeiras              40.0   \n",
      "56659  87138         Bazar Genial  Babador Atoalhado Branco              12.0   \n",
      "56660   9561                 Farm     Saia Recortes Estampa              75.0   \n",
      "\n",
      "       precoSemDesconto                                          Descricao  \\\n",
      "0                1120.0  Óculos preto. Possui uma lente só em degradê. ...   \n",
      "1                4000.0  Bolsa coral de couro. Possui costuras aparente...   \n",
      "2                 310.0  Camisa xadrez nas cores verde e branco. Possui...   \n",
      "3                 490.0  Calça de alfaiataria na cor preta. Possui mode...   \n",
      "4                 130.0  Vestido jeans em lavagem clara. Possui modelag...   \n",
      "...                 ...                                                ...   \n",
      "56656             690.0  Blusinha preta. com gola arredondada; Estampa ...   \n",
      "56657             620.0  Blusa na cor preta. Possui manga de renda com ...   \n",
      "56658               NaN  Body na cor verde estampa modelagem. Possui mo...   \n",
      "56659               NaN  Babador na cor branca. Possuí modelagem redond...   \n",
      "56660             225.0  Saia mini com estampa multicolorida. Possui de...   \n",
      "\n",
      "      Tamanho           Condicao               Cores  Disponível     Data  \\\n",
      "0           U              Usado          \\nPreto \\n     VENDIDO  28:36.5   \n",
      "1           U              Usado          \\nCoral \\n         NaN  42:03.6   \n",
      "2           P              Usado          \\nVerde \\n         NaN  44:38.9   \n",
      "3          34              Usado          \\nPreto \\n         NaN  50:45.9   \n",
      "4           P              Usado          \\nJeans \\n     VENDIDO  51:04.5   \n",
      "...       ...                ...                 ...         ...      ...   \n",
      "56656       G  Novo com etiqueta  \\nPreto \\nVerde \\n     VENDIDO  15:39.7   \n",
      "56657       M              Usado          \\nPreto \\n  DISPONIVEL  15:41.2   \n",
      "56658      3M              Usado                 NaN     VENDIDO  41:18.1   \n",
      "56659       U              Usado         \\nBranco \\n  DISPONIVEL  15:43.0   \n",
      "56660       G              Usado  \\nMulticolorido \\n     VENDIDO  15:44.0   \n",
      "\n",
      "           Status PalavraChave1 PalavraChave2 PalavraChave3 PalavraChave4  \\\n",
      "0      VERIFICADO        Óculos         Lente       Azulada           NaN   \n",
      "1      VERIFICADO         Bolsa         Coral          Saco           NaN   \n",
      "2      VERIFICADO        Camisa        Xadrez         Verde           NaN   \n",
      "3      VERIFICADO         Calça   Alfaiataria         Preta           NaN   \n",
      "4      VERIFICADO       Vestido         Jeans       Babados           NaN   \n",
      "...           ...           ...           ...           ...           ...   \n",
      "56656  VERIFICADO      Camiseta     Bothanica           NaN           NaN   \n",
      "56657  VERIFICADO         Blusa          Seda         Preta           NaN   \n",
      "56658  VERIFICADO          Body         Verde     Palmeiras           NaN   \n",
      "56659  VERIFICADO       Babador     Atoalhado        Branco           NaN   \n",
      "56660  VERIFICADO          Saia      Recortes       Estampa           NaN   \n",
      "\n",
      "      PalavraChave5 PalavraChave6 PalavraChave7  PalavraChave8  \n",
      "0               NaN           NaN           NaN            NaN  \n",
      "1               NaN           NaN           NaN            NaN  \n",
      "2               NaN           NaN           NaN            NaN  \n",
      "3               NaN           NaN           NaN            NaN  \n",
      "4               NaN           NaN           NaN            NaN  \n",
      "...             ...           ...           ...            ...  \n",
      "56656           NaN           NaN           NaN            NaN  \n",
      "56657           NaN           NaN           NaN            NaN  \n",
      "56658           NaN           NaN           NaN            NaN  \n",
      "56659           NaN           NaN           NaN            NaN  \n",
      "56660           NaN           NaN           NaN            NaN  \n",
      "\n",
      "[56661 rows x 20 columns]\n",
      "         id           marca                     nomeDaPeca  precoComDesconto  \\\n",
      "0     22701       Taverniti        Jaqueta Jeans Taverniti             199.0   \n",
      "1     22703       Sem Marca      Camisa Estampada Colorida             129.0   \n",
      "2     22705   Robert Pierre          Bermuda Robert Pierre              49.0   \n",
      "3     22442  Croft & Barrow  Camisa Vintage Croft & Barrow             129.0   \n",
      "4     22443          Boo Jo          Camisa Vintage Boo Jo             129.0   \n",
      "...     ...             ...                            ...               ...   \n",
      "1915  14291         Lay Out                 Camisa Lay Out              25.0   \n",
      "1916  22486         Puritan      Camisa Vermelha Estampada             129.0   \n",
      "1917  22491    Falls Creack    Camisa Vintage Falls Creeck             129.0   \n",
      "1918  22496       Sem Marca         Blusão Bomber Colorido             199.0   \n",
      "1919  22498       Sem Marca     Bomber Jacket Candy Colors             249.0   \n",
      "\n",
      "      precoSemDesconto                                          Descricao  \\\n",
      "0                199.0  Jaqueta oversized jeans escuro, garimpada em B...   \n",
      "1                129.0  Camisa vintage com estampa colorida, de manga ...   \n",
      "2                 49.0  Bermuda jeans cinza, vintage, com cinco bolsos...   \n",
      "3                129.0  Camisa vintage com estampa tropical, garimpada...   \n",
      "4                129.0  Camisa vintage estampada, garimpada em Buenos ...   \n",
      "...                ...                                                ...   \n",
      "1915              40.0  Camisa estampada de manga comprida com um bols...   \n",
      "1916             129.0  Camisa vintage, garimpada em Buenos Aires, Arg...   \n",
      "1917             129.0  Camisa vintage, garimpada em Buenos Aires, Arg...   \n",
      "1918             199.0  Blusão estilo bomber, com recortes coloridos. ...   \n",
      "1919             249.0  Jaqueta bomber oversized, com recortes colorid...   \n",
      "\n",
      "     Tamanho Condicao  Cores  Disponível     Data      Status PalavraChave1  \\\n",
      "0          M  Vintage    NaN  DISPONIVEL  46:38.3  VERIFICADO       Jaqueta   \n",
      "1          G  Vintage    NaN  DISPONIVEL  49:11.0  VERIFICADO        Camisa   \n",
      "2         42  Vintage    NaN  DISPONIVEL  46:21.3  VERIFICADO       Bermuda   \n",
      "3          G  Vintage    NaN  DISPONIVEL  46:55.0  VERIFICADO        Camisa   \n",
      "4          M  Vintage    NaN  DISPONIVEL  49:27.8  VERIFICADO        Camisa   \n",
      "...      ...      ...    ...         ...      ...         ...           ...   \n",
      "1915       G  Vintage    NaN     VENDIDO  44:54.9  VERIFICADO        Camisa   \n",
      "1916       G  Vintage    NaN     VENDIDO  22:29.3  VERIFICADO        Camisa   \n",
      "1917       G  Vintage    NaN     VENDIDO  58:35.5  VERIFICADO        Camisa   \n",
      "1918       M  Vintage    NaN     VENDIDO  24:13.7  VERIFICADO        Blusão   \n",
      "1919       G  Vintage    NaN     VENDIDO  42:27.9  VERIFICADO        Bomber   \n",
      "\n",
      "     PalavraChave2 PalavraChave3 PalavraChave4 PalavraChave5 PalavraChave6  \\\n",
      "0            Jeans     Taverniti           NaN           NaN           NaN   \n",
      "1        Estampada      Colorida           NaN           NaN           NaN   \n",
      "2           Robert        Pierre           NaN           NaN           NaN   \n",
      "3          Vintage         Croft             &        Barrow           NaN   \n",
      "4          Vintage           Boo            Jo           NaN           NaN   \n",
      "...            ...           ...           ...           ...           ...   \n",
      "1915           Lay           Out           NaN           NaN           NaN   \n",
      "1916      Vermelha     Estampada           NaN           NaN           NaN   \n",
      "1917       Vintage         Falls        Creeck           NaN           NaN   \n",
      "1918        Bomber      Colorido           NaN           NaN           NaN   \n",
      "1919        Jacket         Candy        Colors           NaN           NaN   \n",
      "\n",
      "     PalavraChave7  PalavraChave8  \n",
      "0              NaN            NaN  \n",
      "1              NaN            NaN  \n",
      "2              NaN            NaN  \n",
      "3              NaN            NaN  \n",
      "4              NaN            NaN  \n",
      "...            ...            ...  \n",
      "1915           NaN            NaN  \n",
      "1916           NaN            NaN  \n",
      "1917           NaN            NaN  \n",
      "1918           NaN            NaN  \n",
      "1919           NaN            NaN  \n",
      "\n",
      "[1920 rows x 20 columns]\n"
     ]
    }
   ],
   "source": [
    "#Now, add new_list and new_list2 as columns to thrift_a and thrift_c\n",
    "print(thrift_a.shape)\n",
    "print(thrift_c.shape)\n",
    "\n",
    "print(new_list.shape)\n",
    "print(new_list2.shape)\n",
    "\n",
    "thrift_a = pd.concat([thrift_a,new_list], axis = 1)\n",
    "thrift_c = pd.concat([thrift_c,new_list2], axis = 1)\n",
    "print(thrift_a)\n",
    "print(thrift_c)"
   ]
  },
  {
   "cell_type": "code",
   "execution_count": 18,
   "metadata": {},
   "outputs": [],
   "source": [
    "#Fix the size of other columns as well. \n",
    "#There are other columns missing: Composição, Medidas and Desconto. Add empty columns for Composição and Medidas for now.\n",
    "thrift_a[\"Composicao\"] = np.nan\n",
    "thrift_c[\"Composicao\"] = np.nan\n",
    "thrift_a[\"Medidas\"] = np.nan\n",
    "thrift_c[\"Medidas\"] = np.nan\n"
   ]
  },
  {
   "cell_type": "code",
   "execution_count": 46,
   "metadata": {},
   "outputs": [
    {
     "name": "stderr",
     "output_type": "stream",
     "text": [
      "<ipython-input-46-a7a238428bce>:3: SettingWithCopyWarning: \n",
      "A value is trying to be set on a copy of a slice from a DataFrame.\n",
      "Try using .loc[row_indexer,col_indexer] = value instead\n",
      "\n",
      "See the caveats in the documentation: https://pandas.pydata.org/pandas-docs/stable/user_guide/indexing.html#returning-a-view-versus-a-copy\n",
      "  thrift_b['Desconto'] = 100-((thrift_b['precoComDesconto']/thrift_b['precoSemDesconto'])*100)\n"
     ]
    }
   ],
   "source": [
    "#Thrift Stores A, B and C also needs a discount column.\n",
    "thrift_a['Desconto'] = 100-((thrift_a['precoComDesconto']/thrift_a['precoSemDesconto'])*100)\n",
    "thrift_b['Desconto'] = 100-((thrift_b['precoComDesconto']/thrift_b['precoSemDesconto'])*100)\n",
    "thrift_c['Desconto'] = 100-((thrift_c['precoComDesconto']/thrift_c['precoSemDesconto'])*100)"
   ]
  },
  {
   "cell_type": "code",
   "execution_count": 47,
   "metadata": {},
   "outputs": [
    {
     "name": "stdout",
     "output_type": "stream",
     "text": [
      "(56661, 24)\n",
      "(60295, 24)\n",
      "(1920, 24)\n",
      "Index(['id', 'marca', 'nomeDaPeca', 'precoComDesconto', 'precoSemDesconto',\n",
      "       'Desconto', 'Descricao', 'Tamanho', 'Condicao', 'Cores', 'Composicao',\n",
      "       'Medidas', 'Disponível', 'Data', 'Status', 'PalavraChave1',\n",
      "       'PalavraChave2', 'PalavraChave3', 'PalavraChave4', 'PalavraChave5',\n",
      "       'PalavraChave6', 'PalavraChave7', 'PalavraChave8', 'item'],\n",
      "      dtype='object')\n",
      "Index(['id', 'marca', 'nomeDaPeca', 'precoComDesconto', 'precoSemDesconto',\n",
      "       'Desconto', 'Descricao', 'Tamanho', 'Condicao', 'Cores', 'Composicao',\n",
      "       'Medidas', 'Disponível', 'Data', 'Status', 'PalavraChave1',\n",
      "       'PalavraChave2', 'PalavraChave3', 'PalavraChave4', 'PalavraChave5',\n",
      "       'PalavraChave6', 'PalavraChave7', 'PalavraChave8', 'item'],\n",
      "      dtype='object')\n",
      "Index(['id', 'marca', 'nomeDaPeca', 'precoComDesconto', 'precoSemDesconto',\n",
      "       'Desconto', 'Descricao', 'Tamanho', 'Condicao', 'Cores', 'Composicao',\n",
      "       'Medidas', 'Disponível', 'Data', 'Status', 'PalavraChave1',\n",
      "       'PalavraChave2', 'PalavraChave3', 'PalavraChave4', 'PalavraChave5',\n",
      "       'PalavraChave6', 'PalavraChave7', 'PalavraChave8', 'item'],\n",
      "      dtype='object')\n"
     ]
    }
   ],
   "source": [
    "print(thrift_a.shape)\n",
    "print(thrift_b.shape)\n",
    "print(thrift_c.shape)\n",
    "\n",
    "print(thrift_a.columns)\n",
    "print(thrift_b.columns)\n",
    "print(thrift_c.columns)"
   ]
  },
  {
   "cell_type": "code",
   "execution_count": 48,
   "metadata": {},
   "outputs": [
    {
     "name": "stdout",
     "output_type": "stream",
     "text": [
      "Index(['id', 'marca', 'nomeDaPeca', 'precoComDesconto', 'precoSemDesconto',\n",
      "       'Desconto', 'Descricao', 'Tamanho', 'Condicao', 'Cores', 'Composicao',\n",
      "       'Medidas', 'Disponível', 'Data', 'Status', 'PalavraChave1',\n",
      "       'PalavraChave2', 'PalavraChave3', 'PalavraChave4', 'PalavraChave5',\n",
      "       'PalavraChave6', 'PalavraChave7', 'PalavraChave8'],\n",
      "      dtype='object')\n",
      "Index(['id', 'marca', 'nomeDaPeca', 'precoComDesconto', 'precoSemDesconto',\n",
      "       'Desconto', 'Descricao', 'Tamanho', 'Condicao', 'Cores', 'Composicao',\n",
      "       'Medidas', 'Disponível', 'Data', 'Status', 'PalavraChave1',\n",
      "       'PalavraChave2', 'PalavraChave3', 'PalavraChave4', 'PalavraChave5',\n",
      "       'PalavraChave6', 'PalavraChave7', 'PalavraChave8'],\n",
      "      dtype='object')\n",
      "Index(['id', 'marca', 'nomeDaPeca', 'precoComDesconto', 'precoSemDesconto',\n",
      "       'Desconto', 'Descricao', 'Tamanho', 'Condicao', 'Cores', 'Composicao',\n",
      "       'Medidas', 'Disponível', 'Data', 'Status', 'PalavraChave1',\n",
      "       'PalavraChave2', 'PalavraChave3', 'PalavraChave4', 'PalavraChave5',\n",
      "       'PalavraChave6', 'PalavraChave7', 'PalavraChave8'],\n",
      "      dtype='object')\n"
     ]
    }
   ],
   "source": [
    "#rearranging columns to make them right\n",
    "thrift_a = thrift_a[['id', 'marca', 'nomeDaPeca', 'precoComDesconto', 'precoSemDesconto', 'Desconto', 'Descricao', 'Tamanho', 'Condicao', 'Cores', 'Composicao', 'Medidas', 'Disponível', 'Data', 'Status', 'PalavraChave1', 'PalavraChave2', 'PalavraChave3', 'PalavraChave4', 'PalavraChave5', 'PalavraChave6', 'PalavraChave7', 'PalavraChave8']]\n",
    "print(thrift_a.columns)\n",
    "thrift_b = thrift_b[['id', 'marca', 'nomeDaPeca', 'precoComDesconto', 'precoSemDesconto', 'Desconto', 'Descricao', 'Tamanho', 'Condicao', 'Cores', 'Composicao', 'Medidas', 'Disponível', 'Data', 'Status', 'PalavraChave1', 'PalavraChave2', 'PalavraChave3', 'PalavraChave4', 'PalavraChave5', 'PalavraChave6', 'PalavraChave7', 'PalavraChave8']]\n",
    "print(thrift_b.columns)\n",
    "thrift_c = thrift_c[['id', 'marca', 'nomeDaPeca', 'precoComDesconto', 'precoSemDesconto', 'Desconto', 'Descricao', 'Tamanho', 'Condicao', 'Cores', 'Composicao', 'Medidas', 'Disponível', 'Data', 'Status', 'PalavraChave1', 'PalavraChave2', 'PalavraChave3', 'PalavraChave4', 'PalavraChave5', 'PalavraChave6', 'PalavraChave7', 'PalavraChave8']]\n",
    "print(thrift_b.columns)"
   ]
  },
  {
   "cell_type": "code",
   "execution_count": 49,
   "metadata": {},
   "outputs": [
    {
     "name": "stdout",
     "output_type": "stream",
     "text": [
      "(56661, 23)\n",
      "(60295, 23)\n",
      "(1920, 23)\n",
      "(116956, 23)\n",
      "(118876, 23)\n",
      "Index(['id', 'marca', 'nomeDaPeca', 'precoComDesconto', 'precoSemDesconto',\n",
      "       'Desconto', 'Descricao', 'Tamanho', 'Condicao', 'Cores', 'Composicao',\n",
      "       'Medidas', 'Disponível', 'Data', 'Status', 'PalavraChave1',\n",
      "       'PalavraChave2', 'PalavraChave3', 'PalavraChave4', 'PalavraChave5',\n",
      "       'PalavraChave6', 'PalavraChave7', 'PalavraChave8'],\n",
      "      dtype='object')\n"
     ]
    }
   ],
   "source": [
    "#Let's merge the data from all thrift stores.\n",
    "thrift_ab = thrift_a.append(thrift_b, ignore_index=True)\n",
    "thrift_abc = thrift_ab.append(thrift_c, ignore_index=True)\n",
    "print(thrift_a.shape)\n",
    "print(thrift_b.shape)\n",
    "print(thrift_c.shape)\n",
    "print(thrift_ab.shape)\n",
    "print(thrift_abc.shape)\n",
    "print(thrift_abc.columns)"
   ]
  },
  {
   "cell_type": "markdown",
   "metadata": {},
   "source": [
    "## 3. Exploratory Data Analysis\n",
    "### 3.1 Thrift B\n",
    "\n",
    "Now that all thrift store datasets are fixed, Thrift Store B has the nomeDaPeca (*piece of clothing*) column, similar to Thrift Stores A and C.\n",
    "Let's analyse each Thrift Store individually, starting at Thrift B, while we are still on it.\n"
   ]
  },
  {
   "cell_type": "code",
   "execution_count": 30,
   "metadata": {},
   "outputs": [
    {
     "data": {
      "text/plain": [
       "<matplotlib.axes._subplots.AxesSubplot at 0x55248b0>"
      ]
     },
     "execution_count": 30,
     "metadata": {},
     "output_type": "execute_result"
    },
    {
     "data": {
      "image/png": "[encoded data removed]",
      "text/plain": [
       "<Figure size 432x288 with 1 Axes>"
      ]
     },
     "metadata": {
      "needs_background": "light"
     },
     "output_type": "display_data"
    }
   ],
   "source": [
    "#Compare precoSemDesconto (price without discount) with precoComDesconto (price with discount)\n",
    "thrift_b.plot(kind='scatter', x='precoComDesconto', y='precoSemDesconto', color='red')"
   ]
  },
  {
   "cell_type": "markdown",
   "metadata": {},
   "source": [
    "There are two main linear trends in the data. The diagonal trend seems to indicate a discount price that is about 70-75% lesser than the full price. For instance, at y(precoSemDesconto)=5000; while on x(precoComDesconto)≈1125-1500.\n",
    "Let's explore this data further."
   ]
  },
  {
   "cell_type": "code",
   "execution_count": 31,
   "metadata": {},
   "outputs": [
    {
     "data": {
      "image/png": "[encoded data removed]",
      "text/plain": [
       "<Figure size 432x288 with 1 Axes>"
      ]
     },
     "metadata": {
      "needs_background": "light"
     },
     "output_type": "display_data"
    }
   ],
   "source": [
    "#Add which itens are Disponível (available) or Vendido (sold)\n",
    "fig = sns.scatterplot(x='precoComDesconto', y='precoSemDesconto', hue='Disponível', data=thrift_b)"
   ]
  },
  {
   "cell_type": "markdown",
   "metadata": {},
   "source": [
    "This is interesting as well. \"Vendido\" means sold, while \"Disponível\" means available.\n",
    "Pieces of clothing that have been on sale (with discount) seem to have a higher chance of being sold (which makes sense, especially at a 75% sellout as most pieces seem to be).\n",
    "\n",
    "Let's check how these prices are distributed on a histogram:"
   ]
  },
  {
   "cell_type": "code",
   "execution_count": 32,
   "metadata": {},
   "outputs": [
    {
     "data": {
      "text/plain": [
       "<matplotlib.axes._subplots.AxesSubplot at 0x5598ac0>"
      ]
     },
     "execution_count": 32,
     "metadata": {},
     "output_type": "execute_result"
    },
    {
     "data": {
      "image/png": "[encoded data removed]",
      "text/plain": [
       "<Figure size 432x288 with 1 Axes>"
      ]
     },
     "metadata": {
      "needs_background": "light"
     },
     "output_type": "display_data"
    }
   ],
   "source": [
    "#Histogram to better show the wholeness of data\n",
    "thrift_b[['precoSemDesconto', 'precoComDesconto']].plot(kind='hist', alpha=0.7, bins=200, range=[0,500])"
   ]
  },
  {
   "cell_type": "code",
   "execution_count": 33,
   "metadata": {},
   "outputs": [
    {
     "data": {
      "text/plain": [
       "<matplotlib.axes._subplots.AxesSubplot at 0x133de388>"
      ]
     },
     "execution_count": 33,
     "metadata": {},
     "output_type": "execute_result"
    },
    {
     "data": {
      "image/png": "[encoded data removed]",
      "text/plain": [
       "<Figure size 432x288 with 1 Axes>"
      ]
     },
     "metadata": {
      "needs_background": "light"
     },
     "output_type": "display_data"
    }
   ],
   "source": [
    "#Let's zoom in on the density peak of the precoComDesconto (Discount prices) to see the details of how the princes are arranged.\n",
    "thrift_b[['precoSemDesconto', 'precoComDesconto']].plot(kind='hist', alpha=0.7, bins=200, range=[0,80])"
   ]
  },
  {
   "cell_type": "markdown",
   "metadata": {},
   "source": [
    "Full prices (precoSemDesconto) are usually arranged at every 10 reais. Utilyzing \"round numbers-1\" may be a good sales pitch. That is, selling something for 79 reais instead of 80 reais. Or 89 instead of 90. Or 99 instead of 100. We are psychologycally more prone to relate a 99 reais price to a 90 reais rather than to 100 reais, even though the actual price is 9x closer to 100 reais rather than 90.\n",
    "Also, discount prices also tend to cluster similarly to full prices (every 10 reais, buy with a 9 at as the second number). However, discount prices may also tend to occur at the fifths (25, 35, 45 reais, for instance).\n",
    "\n",
    "Next step. Let's see which are the most popular types of clothing in Thrift Store B."
   ]
  },
  {
   "cell_type": "code",
   "execution_count": 51,
   "metadata": {},
   "outputs": [
    {
     "data": {
      "text/plain": [
       "PalavraChave1\n",
       ".Camiseta      1\n",
       "Acessório      1\n",
       "Agasalho       5\n",
       "Alcinha       50\n",
       "Alcinhas       1\n",
       "            ... \n",
       "shorts         1\n",
       "vestido        1\n",
       "Ãculos        1\n",
       "Óculos       224\n",
       "óculos         2\n",
       "Name: id, Length: 463, dtype: int64"
      ]
     },
     "execution_count": 51,
     "metadata": {},
     "output_type": "execute_result"
    }
   ],
   "source": [
    "#How much of each thing do you have\n",
    "thrift_b.groupby('PalavraChave1')['id'].count()"
   ]
  },
  {
   "cell_type": "code",
   "execution_count": 35,
   "metadata": {},
   "outputs": [
    {
     "name": "stdout",
     "output_type": "stream",
     "text": [
      "PalavraChave1\n",
      "Vestido     10494\n",
      "Calça        6645\n",
      "Blusa        5419\n",
      "Camisa       3976\n",
      "Saia         3920\n",
      "Blusinha     3443\n",
      "Camiseta     2652\n",
      "Shorts       1841\n",
      "Regata       1750\n",
      "Casaco       1030\n",
      "Bermuda       954\n",
      "Blazer        953\n",
      "Sandália      846\n",
      "Jaqueta       795\n",
      "Bolsa         762\n",
      "Body          716\n",
      "Suéter        680\n",
      "Sapato        679\n",
      "Bata          578\n",
      "Colete        551\n",
      "Name: PalavraChave1, dtype: int64\n"
     ]
    }
   ],
   "source": [
    "#Count and order by decreasing number of items. \n",
    "#To do that, slice a series and sort it. Showing the 20 largest keyitems.\n",
    "thrift_b_count = thrift_b.groupby('PalavraChave1')['PalavraChave1'].count().nlargest(20)\n",
    "print(thrift_b_count)"
   ]
  },
  {
   "cell_type": "markdown",
   "metadata": {},
   "source": [
    "These are the top 20 pieces of clothing being sold (and having been sold) at Thrift Store B. However, some NLP will be required later to extract more information from this data. I trust that the interested reader will look for the portuguese words in a bilingual dictionary if there are any doubts on the meaning of each."
   ]
  },
  {
   "cell_type": "code",
   "execution_count": 52,
   "metadata": {},
   "outputs": [
    {
     "name": "stdout",
     "output_type": "stream",
     "text": [
      "Index(['id', 'marca', 'nomeDaPeca', 'precoComDesconto', 'precoSemDesconto',\n",
      "       'Desconto', 'Descricao', 'Tamanho', 'Condicao', 'Cores', 'Composicao',\n",
      "       'Medidas', 'Disponível', 'Data', 'Status', 'PalavraChave1',\n",
      "       'PalavraChave2', 'PalavraChave3', 'PalavraChave4', 'PalavraChave5',\n",
      "       'PalavraChave6', 'PalavraChave7', 'PalavraChave8', 'item'],\n",
      "      dtype='object')\n",
      "Index(['id', 'marca', 'nomeDaPeca', 'precoComDesconto', 'precoSemDesconto',\n",
      "       'Desconto', 'Descricao', 'Tamanho', 'Condicao', 'Cores', 'Composicao',\n",
      "       'Medidas', 'Disponível', 'Data', 'Status', 'PalavraChave1',\n",
      "       'PalavraChave2', 'PalavraChave3', 'PalavraChave4', 'PalavraChave5',\n",
      "       'PalavraChave6', 'PalavraChave7', 'PalavraChave8', 'item'],\n",
      "      dtype='object')\n",
      "Index(['id', 'marca', 'nomeDaPeca', 'precoComDesconto', 'precoSemDesconto',\n",
      "       'Desconto', 'Descricao', 'Tamanho', 'Condicao', 'Cores', 'Composicao',\n",
      "       'Medidas', 'Disponível', 'Data', 'Status', 'PalavraChave1',\n",
      "       'PalavraChave2', 'PalavraChave3', 'PalavraChave4', 'PalavraChave5',\n",
      "       'PalavraChave6', 'PalavraChave7', 'PalavraChave8', 'item'],\n",
      "      dtype='object')\n"
     ]
    }
   ],
   "source": [
    "#Assign a column filled with '1' to be further counted and grouped\n",
    "thrift_b['item'] ='1'\n",
    "thrift_a['item'] ='1' #do that for other thrift stores as well\n",
    "thrift_c['item'] ='1'\n",
    "\n",
    "print(thrift_a.columns)\n",
    "print(thrift_b.columns)\n",
    "print(thrift_c.columns)"
   ]
  },
  {
   "cell_type": "code",
   "execution_count": 40,
   "metadata": {},
   "outputs": [
    {
     "data": {
      "image/png": "[encoded data removed]",
      "text/plain": [
       "<Figure size 432x288 with 1 Axes>"
      ]
     },
     "metadata": {
      "needs_background": "light"
     },
     "output_type": "display_data"
    }
   ],
   "source": [
    "#Histogram the previous data\n",
    "x = pd.DataFrame(thrift_b.groupby(['PalavraChave1'])['id'].sum().reset_index())\n",
    "x.sort_values(by = ['id'], ascending = False, inplace = True)\n",
    "\n",
    "sns.barplot(x['PalavraChave1'].head(10), y = (x['id'].head(10))*0.00002, data = x, palette = 'winter')\n",
    "plt.title('Top 10 types of clothing', fontsize = 20)\n",
    "plt.xlabel('Piece of clothing')\n",
    "plt.xticks(rotation = 90)\n",
    "plt.ylabel('Number of pieces')\n",
    "plt.show()"
   ]
  },
  {
   "cell_type": "markdown",
   "metadata": {},
   "source": [
    "Great! \n",
    "Let's go back to analysing discounts. "
   ]
  },
  {
   "cell_type": "code",
   "execution_count": 53,
   "metadata": {},
   "outputs": [
    {
     "data": {
      "text/plain": [
       "<matplotlib.axes._subplots.AxesSubplot at 0x13ae9e20>"
      ]
     },
     "execution_count": 53,
     "metadata": {},
     "output_type": "execute_result"
    },
    {
     "data": {
      "image/png": "[encoded data removed]",
      "text/plain": [
       "<Figure size 432x288 with 1 Axes>"
      ]
     },
     "metadata": {
      "needs_background": "light"
     },
     "output_type": "display_data"
    }
   ],
   "source": [
    "#Divide one column for the other to obtain % of discount\n",
    "thrift_b[['Desconto']].plot(kind='hist', alpha=0.7, bins=100, range=[0,100])"
   ]
  },
  {
   "cell_type": "markdown",
   "metadata": {},
   "source": [
    "Indeed, most discount seem to occur at the 70-75% range.\n",
    "Now, let's see how the discount prices are distributed among specific pieces of clothing."
   ]
  },
  {
   "cell_type": "code",
   "execution_count": 54,
   "metadata": {},
   "outputs": [
    {
     "data": {
      "text/plain": [
       "Text(0.5, 0, 'Óculos')"
      ]
     },
     "execution_count": 54,
     "metadata": {},
     "output_type": "execute_result"
    },
    {
     "data": {
      "image/png": "[encoded data removed]",
      "text/plain": [
       "<Figure size 432x288 with 1 Axes>"
      ]
     },
     "metadata": {
      "needs_background": "light"
     },
     "output_type": "display_data"
    },
    {
     "data": {
      "image/png": "[encoded data removed]",
      "text/plain": [
       "<Figure size 432x288 with 1 Axes>"
      ]
     },
     "metadata": {
      "needs_background": "light"
     },
     "output_type": "display_data"
    },
    {
     "data": {
      "image/png": "[encoded data removed]",
      "text/plain": [
       "<Figure size 432x288 with 1 Axes>"
      ]
     },
     "metadata": {
      "needs_background": "light"
     },
     "output_type": "display_data"
    }
   ],
   "source": [
    "#Show only Vestido (Dress)\n",
    "subset_vestido = thrift_b[thrift_b.PalavraChave1=='Vestido']\n",
    "subset_vestido[['Desconto']].plot(kind='hist', alpha=0.7, bins=100, range=[0,100])\n",
    "plt.xlabel('Vestido')\n",
    "\n",
    "#Show only Calça (Trousers)\n",
    "subset_calca = thrift_b[thrift_b.PalavraChave1=='Calça']\n",
    "subset_calca[['Desconto']].plot(kind='hist', alpha=0.7, bins=100, range=[0,100])\n",
    "plt.xlabel('Calça')\n",
    "\n",
    "#Show only Óculos (Spectacles)\n",
    "subset_oculos = thrift_b[thrift_b.PalavraChave1=='Óculos']\n",
    "subset_oculos[['Desconto']].plot(kind='hist', alpha=0.7, bins=100, range=[0,100])\n",
    "plt.xlabel('Óculos')\n"
   ]
  },
  {
   "cell_type": "markdown",
   "metadata": {},
   "source": [
    "Discount is given at about the same percentage rate regardless of which type of object is being sold."
   ]
  },
  {
   "cell_type": "code",
   "execution_count": 55,
   "metadata": {},
   "outputs": [
    {
     "data": {
      "text/plain": [
       "Text(0.5, 0, 'Disponível')"
      ]
     },
     "execution_count": 55,
     "metadata": {},
     "output_type": "execute_result"
    },
    {
     "data": {
      "image/png": "[encoded data removed]",
      "text/plain": [
       "<Figure size 432x288 with 1 Axes>"
      ]
     },
     "metadata": {
      "needs_background": "light"
     },
     "output_type": "display_data"
    },
    {
     "data": {
      "image/png": "[encoded data removed]",
      "text/plain": [
       "<Figure size 432x288 with 1 Axes>"
      ]
     },
     "metadata": {
      "needs_background": "light"
     },
     "output_type": "display_data"
    }
   ],
   "source": [
    "#Show only Vendidos (Sold)\n",
    "subset_vendido = thrift_b[thrift_b.Disponível=='VENDIDO']\n",
    "subset_vendido[['Desconto']].plot(kind='hist', alpha=0.7, bins=100, range=[0,100])\n",
    "plt.xlabel('Vendido')\n",
    "\n",
    "subset_vendido = thrift_b[thrift_b.Disponível=='DISPONIVEL']\n",
    "subset_vendido[['Desconto']].plot(kind='hist', alpha=0.7, bins=100, range=[0,100])\n",
    "plt.xlabel('Disponível')"
   ]
  },
  {
   "cell_type": "markdown",
   "metadata": {},
   "source": [
    "Discount also does not seem to be a factor for differing which pieces have been sold (Vendido) and which pieces are still available (Disponível). In fact, there seems to be a general proportion between objects sold and available, as Thrift Stores might reasonably showcase new products at about the same rate that the products from the former batch have been sold."
   ]
  },
  {
   "cell_type": "markdown",
   "metadata": {},
   "source": [
    "### 3.2 Thrift Stores A and C"
   ]
  },
  {
   "cell_type": "code",
   "execution_count": 56,
   "metadata": {},
   "outputs": [
    {
     "data": {
      "text/plain": [
       "<matplotlib.axes._subplots.AxesSubplot at 0x157b5718>"
      ]
     },
     "execution_count": 56,
     "metadata": {},
     "output_type": "execute_result"
    },
    {
     "data": {
      "image/png": "[encoded data removed]",
      "text/plain": [
       "<Figure size 432x288 with 1 Axes>"
      ]
     },
     "metadata": {
      "needs_background": "light"
     },
     "output_type": "display_data"
    },
    {
     "data": {
      "image/png": "[encoded data removed]",
      "text/plain": [
       "<Figure size 432x288 with 1 Axes>"
      ]
     },
     "metadata": {
      "needs_background": "light"
     },
     "output_type": "display_data"
    }
   ],
   "source": [
    "#Histogram to better show the wholeness of data\n",
    "thrift_a[['precoSemDesconto', 'precoComDesconto']].plot(kind='hist', alpha=0.7, bins=200, range=[0,2000])\n",
    "thrift_c[['precoSemDesconto', 'precoComDesconto']].plot(kind='hist', alpha=0.7, bins=200, range=[0,500])\n",
    "#Thrift_a seems posher than others. And it seems to give the most amount of discounts. Let's see.\n",
    "#On the other hand, on thrift_c, there is almost no difference between \"Price with discount\" and \"without discount\".\n",
    "#Therefore, it is possible to merge all thrift_store data together; however, it would probably become a jumbled mess, since all three stores have different characteristics from each other\n"
   ]
  },
  {
   "cell_type": "code",
   "execution_count": 57,
   "metadata": {},
   "outputs": [
    {
     "data": {
      "text/plain": [
       "<matplotlib.axes._subplots.AxesSubplot at 0x133cba60>"
      ]
     },
     "execution_count": 57,
     "metadata": {},
     "output_type": "execute_result"
    },
    {
     "data": {
      "image/png": "[encoded data removed]",
      "text/plain": [
       "<Figure size 432x288 with 1 Axes>"
      ]
     },
     "metadata": {
      "needs_background": "light"
     },
     "output_type": "display_data"
    },
    {
     "data": {
      "image/png": "[encoded data removed]",
      "text/plain": [
       "<Figure size 432x288 with 1 Axes>"
      ]
     },
     "metadata": {
      "needs_background": "light"
     },
     "output_type": "display_data"
    }
   ],
   "source": [
    "thrift_a[['Desconto']].plot(kind='hist', alpha=0.7, bins=100, range=[0,100])\n",
    "thrift_c[['Desconto']].plot(kind='hist', alpha=0.7, bins=100, range=[0,100])\n",
    "#Something is different on thrift_c."
   ]
  },
  {
   "cell_type": "code",
   "execution_count": 58,
   "metadata": {},
   "outputs": [
    {
     "name": "stdout",
     "output_type": "stream",
     "text": [
      "Thrift A\n",
      "                  id  precoComDesconto  precoSemDesconto      Desconto  \\\n",
      "count   56661.000000      56661.000000      54347.000000  54347.000000   \n",
      "mean    48153.907997        154.315458        505.941029     68.252088   \n",
      "std     28231.414985        295.597504        814.536897     18.083930   \n",
      "min      1957.000000          1.000000          0.400000  -3650.000000   \n",
      "25%     22717.000000         70.000000        224.500000     65.714286   \n",
      "50%     48276.000000        100.000000        340.000000     69.230769   \n",
      "75%     72721.000000        144.000000        490.000000     71.887550   \n",
      "max    102089.000000      23000.000000      27000.000000     99.821429   \n",
      "\n",
      "       Composicao  Medidas  PalavraChave8  \n",
      "count         0.0      0.0            0.0  \n",
      "mean          NaN      NaN            NaN  \n",
      "std           NaN      NaN            NaN  \n",
      "min           NaN      NaN            NaN  \n",
      "25%           NaN      NaN            NaN  \n",
      "50%           NaN      NaN            NaN  \n",
      "75%           NaN      NaN            NaN  \n",
      "max           NaN      NaN            NaN  \n",
      "\n",
      "\n",
      "Thrift B\n",
      "                 id  precoComDesconto  precoSemDesconto      Desconto\n",
      "count  60295.000000      60295.000000      60295.000000  60295.000000\n",
      "mean   49687.038196         39.406920        157.593594     71.734362\n",
      "std    19072.925914         68.758253        320.417815     11.102762\n",
      "min       20.000000          0.000000          1.310000   -663.358779\n",
      "25%    34449.500000         17.480000         69.000000     66.747229\n",
      "50%    50551.000000         25.900000         89.990000     70.823137\n",
      "75%    65863.500000         42.000000        160.000000     76.050268\n",
      "max    81779.000000       6604.750000      26419.000000    100.000000\n",
      "\n",
      "\n",
      "Thrift C\n",
      "                 id  precoComDesconto  precoSemDesconto     Desconto  Cores  \\\n",
      "count   1920.000000       1920.000000       1920.000000  1920.000000    0.0   \n",
      "mean   16241.843229         77.654687         83.331771     5.381767    NaN   \n",
      "std     2668.243838         55.395617         61.444772    14.867965    NaN   \n",
      "min    11687.000000          6.000000          6.000000     0.000000    NaN   \n",
      "25%    14534.500000         45.000000         49.000000     0.000000    NaN   \n",
      "50%    15015.500000         59.000000         65.000000     0.000000    NaN   \n",
      "75%    17817.250000         89.000000         89.000000     0.000000    NaN   \n",
      "max    22736.000000        399.000000        399.000000    72.463768    NaN   \n",
      "\n",
      "       Composicao  Medidas  PalavraChave8  \n",
      "count         0.0      0.0            0.0  \n",
      "mean          NaN      NaN            NaN  \n",
      "std           NaN      NaN            NaN  \n",
      "min           NaN      NaN            NaN  \n",
      "25%           NaN      NaN            NaN  \n",
      "50%           NaN      NaN            NaN  \n",
      "75%           NaN      NaN            NaN  \n",
      "max           NaN      NaN            NaN  \n",
      "\n",
      "\n",
      "Thrift A+B+C\n",
      "                  id  precoComDesconto  precoSemDesconto       Desconto\n",
      "count  118876.000000     118876.000000     116562.000000  116562.000000\n",
      "mean    48416.104916         94.794621        318.787253      69.017798\n",
      "std     24126.338918        217.587248        627.052226      17.049194\n",
      "min        20.000000          0.000000          0.400000   -3650.000000\n",
      "25%     28898.750000         24.980000         89.900000      65.789474\n",
      "50%     49012.500000         52.480000        180.000000      70.000000\n",
      "75%     68105.000000        100.000000        354.000000      74.996596\n",
      "max    102089.000000      23000.000000      27000.000000     100.000000\n"
     ]
    }
   ],
   "source": [
    "#Lets analyse some real numbers\n",
    "print('Thrift A')\n",
    "print(thrift_a.describe())\n",
    "print('\\n')\n",
    "\n",
    "print('Thrift B')\n",
    "print(thrift_b.describe())\n",
    "print('\\n')\n",
    "\n",
    "print('Thrift C')\n",
    "print(thrift_c.describe())\n",
    "print('\\n')\n",
    "\n",
    "print('Thrift A+B+C')\n",
    "print(thrift_abc.describe())"
   ]
  },
  {
   "cell_type": "markdown",
   "metadata": {},
   "source": [
    "On the descriptive statistics summary, tbe only fields that shall be considered are precoComDesconto (discount prices), precoSemDesconto (full prices) and Desconto (discount in %)."
   ]
  },
  {
   "cell_type": "code",
   "execution_count": 59,
   "metadata": {},
   "outputs": [
    {
     "data": {
      "text/html": [
       "<div>\n",
       "<style scoped>\n",
       "    .dataframe tbody tr th:only-of-type {\n",
       "        vertical-align: middle;\n",
       "    }\n",
       "\n",
       "    .dataframe tbody tr th {\n",
       "        vertical-align: top;\n",
       "    }\n",
       "\n",
       "    .dataframe thead th {\n",
       "        text-align: right;\n",
       "    }\n",
       "</style>\n",
       "<table border=\"1\" class=\"dataframe\">\n",
       "  <thead>\n",
       "    <tr style=\"text-align: right;\">\n",
       "      <th></th>\n",
       "      <th>id</th>\n",
       "      <th>marca</th>\n",
       "      <th>nomeDaPeca</th>\n",
       "      <th>precoComDesconto</th>\n",
       "      <th>precoSemDesconto</th>\n",
       "      <th>Desconto</th>\n",
       "      <th>Descricao</th>\n",
       "      <th>Tamanho</th>\n",
       "      <th>Condicao</th>\n",
       "      <th>Cores</th>\n",
       "      <th>...</th>\n",
       "      <th>Status</th>\n",
       "      <th>PalavraChave1</th>\n",
       "      <th>PalavraChave2</th>\n",
       "      <th>PalavraChave3</th>\n",
       "      <th>PalavraChave4</th>\n",
       "      <th>PalavraChave5</th>\n",
       "      <th>PalavraChave6</th>\n",
       "      <th>PalavraChave7</th>\n",
       "      <th>PalavraChave8</th>\n",
       "      <th>item</th>\n",
       "    </tr>\n",
       "  </thead>\n",
       "  <tbody>\n",
       "    <tr>\n",
       "      <th>1</th>\n",
       "      <td>60509</td>\n",
       "      <td>mob</td>\n",
       "      <td>Vestido Camisa Xadrez Mob</td>\n",
       "      <td>139.97</td>\n",
       "      <td>449.90</td>\n",
       "      <td>68.888642</td>\n",
       "      <td>Vestido camisa xadrez, com mangas 7/8. Bolsos ...</td>\n",
       "      <td>m</td>\n",
       "      <td>gentilmente usada</td>\n",
       "      <td>colorido</td>\n",
       "      <td>...</td>\n",
       "      <td>VERIFICADO</td>\n",
       "      <td>Vestido</td>\n",
       "      <td>Camisa</td>\n",
       "      <td>Xadrez</td>\n",
       "      <td>Mob</td>\n",
       "      <td></td>\n",
       "      <td></td>\n",
       "      <td></td>\n",
       "      <td></td>\n",
       "      <td>1</td>\n",
       "    </tr>\n",
       "    <tr>\n",
       "      <th>2</th>\n",
       "      <td>42602</td>\n",
       "      <td>farm</td>\n",
       "      <td>Vestido Verde Militar Farm</td>\n",
       "      <td>74.70</td>\n",
       "      <td>249.00</td>\n",
       "      <td>70.000000</td>\n",
       "      <td>Vestido Farm cor verde militar, comprimento cu...</td>\n",
       "      <td>p</td>\n",
       "      <td>nova com etiqueta</td>\n",
       "      <td>verde</td>\n",
       "      <td>...</td>\n",
       "      <td>VERIFICADO</td>\n",
       "      <td>Vestido</td>\n",
       "      <td>Verde</td>\n",
       "      <td>Militar</td>\n",
       "      <td>Farm</td>\n",
       "      <td></td>\n",
       "      <td></td>\n",
       "      <td></td>\n",
       "      <td></td>\n",
       "      <td>1</td>\n",
       "    </tr>\n",
       "    <tr>\n",
       "      <th>4</th>\n",
       "      <td>60624</td>\n",
       "      <td>zara</td>\n",
       "      <td>Vestido Laranja com Bolinhas Azuis</td>\n",
       "      <td>26.21</td>\n",
       "      <td>189.90</td>\n",
       "      <td>86.197999</td>\n",
       "      <td>Vestido reto de tecido plano laranja escuro, c...</td>\n",
       "      <td>pp</td>\n",
       "      <td>gentilmente usada</td>\n",
       "      <td>laranja</td>\n",
       "      <td>...</td>\n",
       "      <td>VERIFICADO</td>\n",
       "      <td>Vestido</td>\n",
       "      <td>Laranja</td>\n",
       "      <td>com</td>\n",
       "      <td>Bolinhas</td>\n",
       "      <td>Azuis</td>\n",
       "      <td></td>\n",
       "      <td></td>\n",
       "      <td></td>\n",
       "      <td>1</td>\n",
       "    </tr>\n",
       "    <tr>\n",
       "      <th>22</th>\n",
       "      <td>63470</td>\n",
       "      <td>msp</td>\n",
       "      <td>Vestido Reto Listrado MSP</td>\n",
       "      <td>32.50</td>\n",
       "      <td>109.99</td>\n",
       "      <td>70.451859</td>\n",
       "      <td>Vestido feminino MSP . Tecido plano listrado c...</td>\n",
       "      <td>38</td>\n",
       "      <td>gentilmente usada</td>\n",
       "      <td>colorido</td>\n",
       "      <td>...</td>\n",
       "      <td>VERIFICADO</td>\n",
       "      <td>Vestido</td>\n",
       "      <td>Reto</td>\n",
       "      <td>Listrado</td>\n",
       "      <td>MSP</td>\n",
       "      <td></td>\n",
       "      <td></td>\n",
       "      <td></td>\n",
       "      <td></td>\n",
       "      <td>1</td>\n",
       "    </tr>\n",
       "    <tr>\n",
       "      <th>24</th>\n",
       "      <td>24337</td>\n",
       "      <td>le ricard</td>\n",
       "      <td>Vestido Godê Onça</td>\n",
       "      <td>27.60</td>\n",
       "      <td>69.90</td>\n",
       "      <td>60.515021</td>\n",
       "      <td>Vestido com estampa de onça, modelagem godê, r...</td>\n",
       "      <td>p</td>\n",
       "      <td>nova com etiqueta</td>\n",
       "      <td>colorido</td>\n",
       "      <td>...</td>\n",
       "      <td>VERIFICADO</td>\n",
       "      <td>Vestido</td>\n",
       "      <td>Godê</td>\n",
       "      <td>Onça</td>\n",
       "      <td></td>\n",
       "      <td></td>\n",
       "      <td></td>\n",
       "      <td></td>\n",
       "      <td></td>\n",
       "      <td>1</td>\n",
       "    </tr>\n",
       "    <tr>\n",
       "      <th>...</th>\n",
       "      <td>...</td>\n",
       "      <td>...</td>\n",
       "      <td>...</td>\n",
       "      <td>...</td>\n",
       "      <td>...</td>\n",
       "      <td>...</td>\n",
       "      <td>...</td>\n",
       "      <td>...</td>\n",
       "      <td>...</td>\n",
       "      <td>...</td>\n",
       "      <td>...</td>\n",
       "      <td>...</td>\n",
       "      <td>...</td>\n",
       "      <td>...</td>\n",
       "      <td>...</td>\n",
       "      <td>...</td>\n",
       "      <td>...</td>\n",
       "      <td>...</td>\n",
       "      <td>...</td>\n",
       "      <td>...</td>\n",
       "      <td>...</td>\n",
       "    </tr>\n",
       "    <tr>\n",
       "      <th>60278</th>\n",
       "      <td>78569</td>\n",
       "      <td>zinzi</td>\n",
       "      <td>Vestido Azul E Preto Zinzi</td>\n",
       "      <td>23.70</td>\n",
       "      <td>79.00</td>\n",
       "      <td>70.000000</td>\n",
       "      <td>Vestido, busto azul e saia preta, da marca Zin...</td>\n",
       "      <td>p</td>\n",
       "      <td>gentilmente usada</td>\n",
       "      <td>azul</td>\n",
       "      <td>...</td>\n",
       "      <td>VERIFICADO</td>\n",
       "      <td>Vestido</td>\n",
       "      <td>Azul</td>\n",
       "      <td>E</td>\n",
       "      <td>Preto</td>\n",
       "      <td>Zinzi</td>\n",
       "      <td></td>\n",
       "      <td></td>\n",
       "      <td></td>\n",
       "      <td>1</td>\n",
       "    </tr>\n",
       "    <tr>\n",
       "      <th>60279</th>\n",
       "      <td>49105</td>\n",
       "      <td>blue banana</td>\n",
       "      <td>Vestido Preto Tomara que Caia</td>\n",
       "      <td>152.00</td>\n",
       "      <td>380.00</td>\n",
       "      <td>60.000000</td>\n",
       "      <td>Vestido com decote tomara que caia, modelagem ...</td>\n",
       "      <td>p</td>\n",
       "      <td>gentilmente usada</td>\n",
       "      <td>preto</td>\n",
       "      <td>...</td>\n",
       "      <td>VERIFICADO</td>\n",
       "      <td>Vestido</td>\n",
       "      <td>Preto</td>\n",
       "      <td>Tomara</td>\n",
       "      <td>que</td>\n",
       "      <td>Caia</td>\n",
       "      <td></td>\n",
       "      <td></td>\n",
       "      <td></td>\n",
       "      <td>1</td>\n",
       "    </tr>\n",
       "    <tr>\n",
       "      <th>60287</th>\n",
       "      <td>69614</td>\n",
       "      <td>pako's</td>\n",
       "      <td>Vestido Pako's Malha Preta</td>\n",
       "      <td>30.00</td>\n",
       "      <td>69.90</td>\n",
       "      <td>57.081545</td>\n",
       "      <td>Vestido Pako's, de modelagem ampla, em malha p...</td>\n",
       "      <td>p</td>\n",
       "      <td>gentilmente usada</td>\n",
       "      <td>preto</td>\n",
       "      <td>...</td>\n",
       "      <td>VERIFICADO</td>\n",
       "      <td>Vestido</td>\n",
       "      <td>Pako's</td>\n",
       "      <td>Malha</td>\n",
       "      <td>Preta</td>\n",
       "      <td></td>\n",
       "      <td></td>\n",
       "      <td></td>\n",
       "      <td></td>\n",
       "      <td>1</td>\n",
       "    </tr>\n",
       "    <tr>\n",
       "      <th>60289</th>\n",
       "      <td>67762</td>\n",
       "      <td>iódice</td>\n",
       "      <td>Vestido Preto Iódice Drapeado</td>\n",
       "      <td>63.21</td>\n",
       "      <td>350.00</td>\n",
       "      <td>81.940000</td>\n",
       "      <td>Vestido Preto, de modelagem ampla, em malha ac...</td>\n",
       "      <td>p</td>\n",
       "      <td>gentilmente usada</td>\n",
       "      <td>preto</td>\n",
       "      <td>...</td>\n",
       "      <td>VERIFICADO</td>\n",
       "      <td>Vestido</td>\n",
       "      <td>Preto</td>\n",
       "      <td>Iódice</td>\n",
       "      <td>Drapeado</td>\n",
       "      <td></td>\n",
       "      <td></td>\n",
       "      <td></td>\n",
       "      <td></td>\n",
       "      <td>1</td>\n",
       "    </tr>\n",
       "    <tr>\n",
       "      <th>60291</th>\n",
       "      <td>38714</td>\n",
       "      <td>magia</td>\n",
       "      <td>Vestido Longo Floral Magia</td>\n",
       "      <td>21.48</td>\n",
       "      <td>85.90</td>\n",
       "      <td>74.994179</td>\n",
       "      <td>Vestido longo, com estampa floral colorida, da...</td>\n",
       "      <td>m</td>\n",
       "      <td>gentilmente usada</td>\n",
       "      <td>colorido</td>\n",
       "      <td>...</td>\n",
       "      <td>VERIFICADO</td>\n",
       "      <td>Vestido</td>\n",
       "      <td>Longo</td>\n",
       "      <td>Floral</td>\n",
       "      <td>Magia</td>\n",
       "      <td></td>\n",
       "      <td></td>\n",
       "      <td></td>\n",
       "      <td></td>\n",
       "      <td>1</td>\n",
       "    </tr>\n",
       "  </tbody>\n",
       "</table>\n",
       "<p>10494 rows × 24 columns</p>\n",
       "</div>"
      ],
      "text/plain": [
       "          id        marca                                nomeDaPeca  \\\n",
       "1      60509          mob         Vestido Camisa Xadrez Mob           \n",
       "2      42602         farm        Vestido Verde Militar Farm           \n",
       "4      60624         zara  Vestido Laranja com Bolinhas Azuis         \n",
       "22     63470          msp         Vestido Reto Listrado MSP           \n",
       "24     24337    le ricard               Vestido Godê Onça             \n",
       "...      ...          ...                                       ...   \n",
       "60278  78569        zinzi          Vestido Azul E Preto Zinzi         \n",
       "60279  49105  blue banana       Vestido Preto Tomara que Caia         \n",
       "60287  69614       pako's        Vestido Pako's Malha Preta           \n",
       "60289  67762       iódice     Vestido Preto Iódice Drapeado           \n",
       "60291  38714        magia        Vestido Longo Floral Magia           \n",
       "\n",
       "       precoComDesconto  precoSemDesconto   Desconto  \\\n",
       "1                139.97            449.90  68.888642   \n",
       "2                 74.70            249.00  70.000000   \n",
       "4                 26.21            189.90  86.197999   \n",
       "22                32.50            109.99  70.451859   \n",
       "24                27.60             69.90  60.515021   \n",
       "...                 ...               ...        ...   \n",
       "60278             23.70             79.00  70.000000   \n",
       "60279            152.00            380.00  60.000000   \n",
       "60287             30.00             69.90  57.081545   \n",
       "60289             63.21            350.00  81.940000   \n",
       "60291             21.48             85.90  74.994179   \n",
       "\n",
       "                                               Descricao Tamanho  \\\n",
       "1      Vestido camisa xadrez, com mangas 7/8. Bolsos ...       m   \n",
       "2      Vestido Farm cor verde militar, comprimento cu...       p   \n",
       "4      Vestido reto de tecido plano laranja escuro, c...      pp   \n",
       "22     Vestido feminino MSP . Tecido plano listrado c...      38   \n",
       "24     Vestido com estampa de onça, modelagem godê, r...       p   \n",
       "...                                                  ...     ...   \n",
       "60278  Vestido, busto azul e saia preta, da marca Zin...       p   \n",
       "60279  Vestido com decote tomara que caia, modelagem ...       p   \n",
       "60287  Vestido Pako's, de modelagem ampla, em malha p...       p   \n",
       "60289  Vestido Preto, de modelagem ampla, em malha ac...       p   \n",
       "60291  Vestido longo, com estampa floral colorida, da...       m   \n",
       "\n",
       "                Condicao     Cores  ...      Status PalavraChave1  \\\n",
       "1      gentilmente usada  colorido  ...  VERIFICADO       Vestido   \n",
       "2      nova com etiqueta     verde  ...  VERIFICADO       Vestido   \n",
       "4      gentilmente usada   laranja  ...  VERIFICADO       Vestido   \n",
       "22     gentilmente usada  colorido  ...  VERIFICADO       Vestido   \n",
       "24     nova com etiqueta  colorido  ...  VERIFICADO       Vestido   \n",
       "...                  ...       ...  ...         ...           ...   \n",
       "60278  gentilmente usada      azul  ...  VERIFICADO       Vestido   \n",
       "60279  gentilmente usada     preto  ...  VERIFICADO       Vestido   \n",
       "60287  gentilmente usada     preto  ...  VERIFICADO       Vestido   \n",
       "60289  gentilmente usada     preto  ...  VERIFICADO       Vestido   \n",
       "60291  gentilmente usada  colorido  ...  VERIFICADO       Vestido   \n",
       "\n",
       "      PalavraChave2 PalavraChave3 PalavraChave4 PalavraChave5 PalavraChave6  \\\n",
       "1            Camisa        Xadrez           Mob                               \n",
       "2             Verde       Militar          Farm                               \n",
       "4           Laranja           com      Bolinhas         Azuis                 \n",
       "22             Reto      Listrado           MSP                               \n",
       "24             Godê          Onça                                             \n",
       "...             ...           ...           ...           ...           ...   \n",
       "60278          Azul             E         Preto         Zinzi                 \n",
       "60279         Preto        Tomara           que          Caia                 \n",
       "60287        Pako's         Malha         Preta                               \n",
       "60289         Preto        Iódice      Drapeado                               \n",
       "60291         Longo        Floral         Magia                               \n",
       "\n",
       "      PalavraChave7 PalavraChave8 item  \n",
       "1                                    1  \n",
       "2                                    1  \n",
       "4                                    1  \n",
       "22                                   1  \n",
       "24                                   1  \n",
       "...             ...           ...  ...  \n",
       "60278                                1  \n",
       "60279                                1  \n",
       "60287                                1  \n",
       "60289                                1  \n",
       "60291                                1  \n",
       "\n",
       "[10494 rows x 24 columns]"
      ]
     },
     "execution_count": 59,
     "metadata": {},
     "output_type": "execute_result"
    }
   ],
   "source": [
    "#Let's analise only dresses (Vestido) now.\n",
    "thrift_b_Vestido = thrift_b.loc[thrift_b.PalavraChave1=='Vestido']\n",
    "thrift_b_Vestido\n"
   ]
  },
  {
   "cell_type": "code",
   "execution_count": 60,
   "metadata": {},
   "outputs": [
    {
     "data": {
      "image/png": "[encoded data removed]",
      "text/plain": [
       "<Figure size 1440x720 with 1 Axes>"
      ]
     },
     "metadata": {
      "needs_background": "light"
     },
     "output_type": "display_data"
    }
   ],
   "source": [
    "thrift_b_Vestido['marca'].value_counts().head(30).plot(kind='barh', figsize=(20,10), fontsize=12)\n",
    "plt.title('Thrift Store B - Vestido', fontsize = 20)\n",
    "plt.ylabel('Marca')\n",
    "plt.xlabel('Number of pieces')\n",
    "plt.show()"
   ]
  },
  {
   "cell_type": "code",
   "execution_count": 61,
   "metadata": {},
   "outputs": [
    {
     "name": "stdout",
     "output_type": "stream",
     "text": [
      "sem etiqueta      953\n",
      "zara              224\n",
      "farm              175\n",
      "forever 21        170\n",
      "sem marca         166\n",
      "hering            165\n",
      "c&a               123\n",
      "marisa            114\n",
      "le lis blanc      109\n",
      "renner             99\n",
      "antix              84\n",
      "h&m                78\n",
      "animale            75\n",
      "collins            68\n",
      "indefinida         67\n",
      "mercatto           64\n",
      "barred's           59\n",
      "luigi bertolli     56\n",
      "gregory            55\n",
      "maria filó         45\n",
      "linho fino         44\n",
      "mob                44\n",
      "lucidez            43\n",
      "ever pretty        42\n",
      "tvz                41\n",
      "zinzane            38\n",
      "shoulder           37\n",
      "m. officer         37\n",
      "riachuelo          35\n",
      "shop 126           34\n",
      "Name: marca, dtype: int64\n"
     ]
    }
   ],
   "source": [
    "x2 = thrift_b_Vestido['marca'].value_counts().head(30)\n",
    "print(x2)"
   ]
  },
  {
   "cell_type": "markdown",
   "metadata": {},
   "source": [
    "Tags \"sem etiqueta\" and \"sem marca\" would mean \"no tag\" and \"no brand\" respectively."
   ]
  },
  {
   "cell_type": "markdown",
   "metadata": {},
   "source": [
    "Let's resume the objectives of this project: to perform a statistical analysis that will help businesses decisions in a newly opened thrift store.\n",
    " \n",
    "### 3.3 Conclusions of Exploratory Data Analysis\n",
    "\n",
    "- Thrift A displays a similar discount pattern to Thrift B, with most products ranging from 65-72%. Coincidentally or not, the median for Thrift Stores A discount prices is exactly 100 reais. It is also the most expensive store (A=100,00; B=25,90; C=59,00).\n",
    "- Thrift B has the cheaper prices. It also has the most amounts of items in the dataset, which might indicate either that:\n",
    "    - The sales have been well, probably prompted by the good prices, or that\n",
    "    - Thrift Store B is just the oldest of all thrift store and it has been on the market for a longer period of time.\n",
    "- Thrift C, on the other hand, has a different sales schema from the other thrift stores, in the sense that it barely puts discount on products. From our initial analysis, we saw that Thrift Store C may be somewhat more \"hipster\" than the former two thrift stores. It might have a different market strategy. Most pieces of clothing were purchased in Buenos Aires (Argentina). Also, Condicao (condition) field from Thrift Store C, instead of stating whether the piece of clothing is in a good state or not, it just says \"Vintage\" for all instances. \"Vintage\" is a term for trendy, oldfashioned clothes. This might indicate that Thrift Store C appeals to a very specific, smaller niche of costumers. Those characteristics do not necessarily indicate that the store is successful or not. It also does not mean that Thrift Store C is more expensive, since it actually has an intermediate price between Thrift Store B and A. But Thrift Store C indeed contains the least amount of items of all three stores, which means either that: \n",
    "    - The products showcased at the Thrift Store C were replaced at a lesser rate than in the other thrift stores, which might indicate that the sales haven't been so well, or that\n",
    "    - Thrift Store C is relatively new, so it hasn't sold as many products as the other stores. \n",
    "    If the former supposition is the case, then Thrift Store C ends up being the least profitful of all Thrift Stores (which does not necessarily mean that it is the least successful, since success is completely relative to what your objectives are as an entrepreneur).\n",
    " \n",
    "### 3.4 Recommendations for Future Datasets\n",
    "\n",
    "The dataset would be considerably more useful, businesswise, if it had:\n",
    "- The price that the Thrift Stores paid for each product before they were put on sale, which would allow us to calculate the profit.\n",
    "- The correct dates for the price transactions.\n",
    "- Customer data: especially gender and age.\n",
    "\n"
   ]
  },
  {
   "cell_type": "markdown",
   "metadata": {},
   "source": [
    "## 4. Natural Language Processing (NLP)\n",
    "We use some basic NLP techniques to extract more information from the Thrift Store datasets.\n"
   ]
  },
  {
   "cell_type": "markdown",
   "metadata": {},
   "source": [
    "### 4.1 Wordcloud\n",
    "\n",
    "First, Let's evaluate which were the most commonly used words in the description by exhibiting a \"wordcloud\", as a preview to our NLP.\n",
    "We shall also eliminate common propositions in portuguese, and focus on nouns and adjectives that tend to better characterise the objects we are evaluating."
   ]
  },
  {
   "cell_type": "code",
   "execution_count": 62,
   "metadata": {},
   "outputs": [
    {
     "data": {
      "text/plain": [
       "<matplotlib.image.AxesImage at 0x132edbb0>"
      ]
     },
     "execution_count": 62,
     "metadata": {},
     "output_type": "execute_result"
    },
    {
     "data": {
      "image/png": "[encoded data removed]",
      "text/plain": [
       "<Figure size 432x288 with 1 Axes>"
      ]
     },
     "metadata": {
      "needs_background": "light"
     },
     "output_type": "display_data"
    }
   ],
   "source": [
    "#WordCloud para Descriçao (detailed description)\n",
    "descricao_text = str(thrift_b.Descricao)\n",
    "wordcloud = WordCloud(width=480, height=480, margin=0, stopwords=['da', 'do', 'de', 'cu', 'na','length', 'Descricao','Name','dtype','object','com', 'fe', 'bol', 'regiÃ']).generate(descricao_text)\n",
    "plt.imshow(wordcloud, interpolation='bilinear')\n"
   ]
  },
  {
   "cell_type": "markdown",
   "metadata": {},
   "source": [
    "Fine. Now let's apply wordcloud for the first order keyword (which would correspond to the main nouns in the dataset)."
   ]
  },
  {
   "cell_type": "code",
   "execution_count": 63,
   "metadata": {},
   "outputs": [
    {
     "data": {
      "text/plain": [
       "<matplotlib.image.AxesImage at 0x158be5c8>"
      ]
     },
     "execution_count": 63,
     "metadata": {},
     "output_type": "execute_result"
    },
    {
     "data": {
      "image/png": "[encoded data removed]",
      "text/plain": [
       "<Figure size 432x288 with 1 Axes>"
      ]
     },
     "metadata": {
      "needs_background": "light"
     },
     "output_type": "display_data"
    }
   ],
   "source": [
    "#WordCloud para PalavraChave1\n",
    "PalavraChave1_text = str(thrift_b.PalavraChave1)\n",
    "wordcloud2 = WordCloud(width=480, height=480, margin=0, stopwords=['Name', 'Length','dtype', 'PalavraChave1', 'object']).generate(PalavraChave1_text)\n",
    "plt.imshow(wordcloud2, interpolation='bilinear')"
   ]
  },
  {
   "cell_type": "markdown",
   "metadata": {},
   "source": [
    "That does not seem to work well given that, intuitivelly, it is much harder to imagine that \"Anabela\" (a specific type of sandal) and \"Colete\" (waistcoat) would have the same weight as standard pieces of clothing such as \"Calça\" (trousers *aka in US* pants) and \"Camisa\" (shirt). \n",
    "\n",
    "Also, as we have seen previously, the most common pieces of clothing in Thrift Store B are: Vestido, Calça, Blusa, Camisa, Saia, Blusinha... And so on, which is incompatible, at least in this instance, with the results obtained via wordcloud."
   ]
  },
  {
   "cell_type": "markdown",
   "metadata": {},
   "source": [
    "### 4.2 Bag-of-Words\n",
    "\n",
    "#### 4.2.1 Defining a new categorical variable\n",
    "We will first establish a new categorical data to divide our data into \"caro\" (expensive) and \"barato\" (cheap). To define which one is which, we will first get the median for each dataset. In the real world, we would probably define which values are expensive or cheap depending on the values we have in our pocket. However, in our simulated world, we will artifically define this boundary so that we can simmetrically divide our datasets. The values above the median will be defined as expensive; the values below the median will be defined as cheap. \n",
    "\n",
    "Firstly, we will only analyse the data on Thrift Store B to avoid descriptive difference that would be inherent from the different stores we're modelling.\n",
    "- Caro = 1\n",
    "- Barato = 0"
   ]
  },
  {
   "cell_type": "code",
   "execution_count": 64,
   "metadata": {},
   "outputs": [
    {
     "name": "stdout",
     "output_type": "stream",
     "text": [
      "Index(['id', 'marca', 'nomeDaPeca', 'precoComDesconto', 'precoSemDesconto',\n",
      "       'Desconto', 'Descricao', 'Tamanho', 'Condicao', 'Cores', 'Composicao',\n",
      "       'Medidas', 'Disponível', 'Data', 'Status', 'PalavraChave1',\n",
      "       'PalavraChave2', 'PalavraChave3', 'PalavraChave4', 'PalavraChave5',\n",
      "       'PalavraChave6', 'PalavraChave7', 'PalavraChave8', 'item', 'cost'],\n",
      "      dtype='object')\n"
     ]
    }
   ],
   "source": [
    "#Let's create the new column and fill it with zeros\n",
    "thrift_b[\"cost\"] = 0\n",
    "print(thrift_b.columns)"
   ]
  },
  {
   "cell_type": "code",
   "execution_count": 65,
   "metadata": {},
   "outputs": [
    {
     "data": {
      "text/plain": [
       "100"
      ]
     },
     "execution_count": 65,
     "metadata": {},
     "output_type": "execute_result"
    }
   ],
   "source": [
    "margin = 100\n",
    "margin"
   ]
  },
  {
   "cell_type": "code",
   "execution_count": 66,
   "metadata": {},
   "outputs": [],
   "source": [
    "#create a function that operates on the rows of the dataframe:\n",
    "def f(row):\n",
    "    if row['precoComDesconto'] >= 100:\n",
    "        val = 1 #caro\n",
    "    else:\n",
    "        val = 0 #barato\n",
    "    return val"
   ]
  },
  {
   "cell_type": "code",
   "execution_count": 67,
   "metadata": {},
   "outputs": [
    {
     "data": {
      "text/html": [
       "<div>\n",
       "<style scoped>\n",
       "    .dataframe tbody tr th:only-of-type {\n",
       "        vertical-align: middle;\n",
       "    }\n",
       "\n",
       "    .dataframe tbody tr th {\n",
       "        vertical-align: top;\n",
       "    }\n",
       "\n",
       "    .dataframe thead th {\n",
       "        text-align: right;\n",
       "    }\n",
       "</style>\n",
       "<table border=\"1\" class=\"dataframe\">\n",
       "  <thead>\n",
       "    <tr style=\"text-align: right;\">\n",
       "      <th></th>\n",
       "      <th>id</th>\n",
       "      <th>marca</th>\n",
       "      <th>nomeDaPeca</th>\n",
       "      <th>precoComDesconto</th>\n",
       "      <th>precoSemDesconto</th>\n",
       "      <th>Desconto</th>\n",
       "      <th>Descricao</th>\n",
       "      <th>Tamanho</th>\n",
       "      <th>Condicao</th>\n",
       "      <th>Cores</th>\n",
       "      <th>...</th>\n",
       "      <th>PalavraChave1</th>\n",
       "      <th>PalavraChave2</th>\n",
       "      <th>PalavraChave3</th>\n",
       "      <th>PalavraChave4</th>\n",
       "      <th>PalavraChave5</th>\n",
       "      <th>PalavraChave6</th>\n",
       "      <th>PalavraChave7</th>\n",
       "      <th>PalavraChave8</th>\n",
       "      <th>item</th>\n",
       "      <th>cost</th>\n",
       "    </tr>\n",
       "  </thead>\n",
       "  <tbody>\n",
       "    <tr>\n",
       "      <th>0</th>\n",
       "      <td>24427</td>\n",
       "      <td>nativa</td>\n",
       "      <td>Anabela Laço Laranja</td>\n",
       "      <td>49.99</td>\n",
       "      <td>100.00</td>\n",
       "      <td>50.010000</td>\n",
       "      <td>Sandália anabela de tecido laminado vazado, fe...</td>\n",
       "      <td>37</td>\n",
       "      <td>gentilmente usada</td>\n",
       "      <td>laranja</td>\n",
       "      <td>...</td>\n",
       "      <td>Anabela</td>\n",
       "      <td>Laço</td>\n",
       "      <td>Laranja</td>\n",
       "      <td></td>\n",
       "      <td></td>\n",
       "      <td></td>\n",
       "      <td></td>\n",
       "      <td></td>\n",
       "      <td>1</td>\n",
       "      <td>0</td>\n",
       "    </tr>\n",
       "    <tr>\n",
       "      <th>1</th>\n",
       "      <td>60509</td>\n",
       "      <td>mob</td>\n",
       "      <td>Vestido Camisa Xadrez Mob</td>\n",
       "      <td>139.97</td>\n",
       "      <td>449.90</td>\n",
       "      <td>68.888642</td>\n",
       "      <td>Vestido camisa xadrez, com mangas 7/8. Bolsos ...</td>\n",
       "      <td>m</td>\n",
       "      <td>gentilmente usada</td>\n",
       "      <td>colorido</td>\n",
       "      <td>...</td>\n",
       "      <td>Vestido</td>\n",
       "      <td>Camisa</td>\n",
       "      <td>Xadrez</td>\n",
       "      <td>Mob</td>\n",
       "      <td></td>\n",
       "      <td></td>\n",
       "      <td></td>\n",
       "      <td></td>\n",
       "      <td>1</td>\n",
       "      <td>1</td>\n",
       "    </tr>\n",
       "    <tr>\n",
       "      <th>2</th>\n",
       "      <td>42602</td>\n",
       "      <td>farm</td>\n",
       "      <td>Vestido Verde Militar Farm</td>\n",
       "      <td>74.70</td>\n",
       "      <td>249.00</td>\n",
       "      <td>70.000000</td>\n",
       "      <td>Vestido Farm cor verde militar, comprimento cu...</td>\n",
       "      <td>p</td>\n",
       "      <td>nova com etiqueta</td>\n",
       "      <td>verde</td>\n",
       "      <td>...</td>\n",
       "      <td>Vestido</td>\n",
       "      <td>Verde</td>\n",
       "      <td>Militar</td>\n",
       "      <td>Farm</td>\n",
       "      <td></td>\n",
       "      <td></td>\n",
       "      <td></td>\n",
       "      <td></td>\n",
       "      <td>1</td>\n",
       "      <td>0</td>\n",
       "    </tr>\n",
       "    <tr>\n",
       "      <th>3</th>\n",
       "      <td>41552</td>\n",
       "      <td>pure knite</td>\n",
       "      <td>Colete de Crochê Marrom Claro</td>\n",
       "      <td>25.25</td>\n",
       "      <td>135.00</td>\n",
       "      <td>81.296296</td>\n",
       "      <td>Colete em crochê, cor marrom claro, modelo com...</td>\n",
       "      <td>m</td>\n",
       "      <td>gentilmente usada</td>\n",
       "      <td>marrom</td>\n",
       "      <td>...</td>\n",
       "      <td>Colete</td>\n",
       "      <td>de</td>\n",
       "      <td>Crochê</td>\n",
       "      <td>Marrom</td>\n",
       "      <td>Claro</td>\n",
       "      <td></td>\n",
       "      <td></td>\n",
       "      <td></td>\n",
       "      <td>1</td>\n",
       "      <td>0</td>\n",
       "    </tr>\n",
       "    <tr>\n",
       "      <th>4</th>\n",
       "      <td>60624</td>\n",
       "      <td>zara</td>\n",
       "      <td>Vestido Laranja com Bolinhas Azuis</td>\n",
       "      <td>26.21</td>\n",
       "      <td>189.90</td>\n",
       "      <td>86.197999</td>\n",
       "      <td>Vestido reto de tecido plano laranja escuro, c...</td>\n",
       "      <td>pp</td>\n",
       "      <td>gentilmente usada</td>\n",
       "      <td>laranja</td>\n",
       "      <td>...</td>\n",
       "      <td>Vestido</td>\n",
       "      <td>Laranja</td>\n",
       "      <td>com</td>\n",
       "      <td>Bolinhas</td>\n",
       "      <td>Azuis</td>\n",
       "      <td></td>\n",
       "      <td></td>\n",
       "      <td></td>\n",
       "      <td>1</td>\n",
       "      <td>0</td>\n",
       "    </tr>\n",
       "    <tr>\n",
       "      <th>...</th>\n",
       "      <td>...</td>\n",
       "      <td>...</td>\n",
       "      <td>...</td>\n",
       "      <td>...</td>\n",
       "      <td>...</td>\n",
       "      <td>...</td>\n",
       "      <td>...</td>\n",
       "      <td>...</td>\n",
       "      <td>...</td>\n",
       "      <td>...</td>\n",
       "      <td>...</td>\n",
       "      <td>...</td>\n",
       "      <td>...</td>\n",
       "      <td>...</td>\n",
       "      <td>...</td>\n",
       "      <td>...</td>\n",
       "      <td>...</td>\n",
       "      <td>...</td>\n",
       "      <td>...</td>\n",
       "      <td>...</td>\n",
       "      <td>...</td>\n",
       "    </tr>\n",
       "    <tr>\n",
       "      <th>60290</th>\n",
       "      <td>50079</td>\n",
       "      <td>clock house</td>\n",
       "      <td>Calça Jeans Skinny Clock House</td>\n",
       "      <td>27.20</td>\n",
       "      <td>80.00</td>\n",
       "      <td>66.000000</td>\n",
       "      <td>Calça jeans com modelagem skinny, com dois bol...</td>\n",
       "      <td>44</td>\n",
       "      <td>gentilmente usada</td>\n",
       "      <td>azul</td>\n",
       "      <td>...</td>\n",
       "      <td>Calça</td>\n",
       "      <td>Jeans</td>\n",
       "      <td>Skinny</td>\n",
       "      <td>Clock</td>\n",
       "      <td>House</td>\n",
       "      <td></td>\n",
       "      <td></td>\n",
       "      <td></td>\n",
       "      <td>1</td>\n",
       "      <td>0</td>\n",
       "    </tr>\n",
       "    <tr>\n",
       "      <th>60291</th>\n",
       "      <td>38714</td>\n",
       "      <td>magia</td>\n",
       "      <td>Vestido Longo Floral Magia</td>\n",
       "      <td>21.48</td>\n",
       "      <td>85.90</td>\n",
       "      <td>74.994179</td>\n",
       "      <td>Vestido longo, com estampa floral colorida, da...</td>\n",
       "      <td>m</td>\n",
       "      <td>gentilmente usada</td>\n",
       "      <td>colorido</td>\n",
       "      <td>...</td>\n",
       "      <td>Vestido</td>\n",
       "      <td>Longo</td>\n",
       "      <td>Floral</td>\n",
       "      <td>Magia</td>\n",
       "      <td></td>\n",
       "      <td></td>\n",
       "      <td></td>\n",
       "      <td></td>\n",
       "      <td>1</td>\n",
       "      <td>0</td>\n",
       "    </tr>\n",
       "    <tr>\n",
       "      <th>60292</th>\n",
       "      <td>41740</td>\n",
       "      <td>zara</td>\n",
       "      <td>Camisa Branca Zara</td>\n",
       "      <td>27.00</td>\n",
       "      <td>89.99</td>\n",
       "      <td>69.996666</td>\n",
       "      <td>Camisa branca, com bolso único na regiÃ£o do t...</td>\n",
       "      <td>18m</td>\n",
       "      <td>gentilmente usada</td>\n",
       "      <td>branco</td>\n",
       "      <td>...</td>\n",
       "      <td>Camisa</td>\n",
       "      <td>Branca</td>\n",
       "      <td>Zara</td>\n",
       "      <td></td>\n",
       "      <td></td>\n",
       "      <td></td>\n",
       "      <td></td>\n",
       "      <td></td>\n",
       "      <td>1</td>\n",
       "      <td>0</td>\n",
       "    </tr>\n",
       "    <tr>\n",
       "      <th>60293</th>\n",
       "      <td>35819</td>\n",
       "      <td>oshkosh</td>\n",
       "      <td>Camiseta Infantil Raglan</td>\n",
       "      <td>10.00</td>\n",
       "      <td>29.99</td>\n",
       "      <td>66.655552</td>\n",
       "      <td>Camisetinha raglan com decote fechado, manga c...</td>\n",
       "      <td>3</td>\n",
       "      <td>gentilmente usada</td>\n",
       "      <td>colorido</td>\n",
       "      <td>...</td>\n",
       "      <td>Camiseta</td>\n",
       "      <td>Infantil</td>\n",
       "      <td>Raglan</td>\n",
       "      <td></td>\n",
       "      <td></td>\n",
       "      <td></td>\n",
       "      <td></td>\n",
       "      <td></td>\n",
       "      <td>1</td>\n",
       "      <td>0</td>\n",
       "    </tr>\n",
       "    <tr>\n",
       "      <th>60294</th>\n",
       "      <td>74181</td>\n",
       "      <td>forever 21</td>\n",
       "      <td>Blusa Verde Forever 21</td>\n",
       "      <td>29.44</td>\n",
       "      <td>117.75</td>\n",
       "      <td>74.997877</td>\n",
       "      <td>Blusa feminina , verde, da Forever 21. Tecido ...</td>\n",
       "      <td>m</td>\n",
       "      <td>gentilmente usada</td>\n",
       "      <td>verde</td>\n",
       "      <td>...</td>\n",
       "      <td>Blusa</td>\n",
       "      <td>Verde</td>\n",
       "      <td>Forever</td>\n",
       "      <td>21</td>\n",
       "      <td></td>\n",
       "      <td></td>\n",
       "      <td></td>\n",
       "      <td></td>\n",
       "      <td>1</td>\n",
       "      <td>0</td>\n",
       "    </tr>\n",
       "  </tbody>\n",
       "</table>\n",
       "<p>60295 rows × 25 columns</p>\n",
       "</div>"
      ],
      "text/plain": [
       "          id        marca                                nomeDaPeca  \\\n",
       "0      24427       nativa            Anabela Laço Laranja             \n",
       "1      60509          mob         Vestido Camisa Xadrez Mob           \n",
       "2      42602         farm        Vestido Verde Militar Farm           \n",
       "3      41552   pure knite       Colete de Crochê Marrom Claro         \n",
       "4      60624         zara  Vestido Laranja com Bolinhas Azuis         \n",
       "...      ...          ...                                       ...   \n",
       "60290  50079  clock house      Calça Jeans Skinny Clock House         \n",
       "60291  38714        magia        Vestido Longo Floral Magia           \n",
       "60292  41740         zara              Camisa Branca Zara             \n",
       "60293  35819      oshkosh        Camiseta Infantil Raglan             \n",
       "60294  74181   forever 21            Blusa Verde Forever 21           \n",
       "\n",
       "       precoComDesconto  precoSemDesconto   Desconto  \\\n",
       "0                 49.99            100.00  50.010000   \n",
       "1                139.97            449.90  68.888642   \n",
       "2                 74.70            249.00  70.000000   \n",
       "3                 25.25            135.00  81.296296   \n",
       "4                 26.21            189.90  86.197999   \n",
       "...                 ...               ...        ...   \n",
       "60290             27.20             80.00  66.000000   \n",
       "60291             21.48             85.90  74.994179   \n",
       "60292             27.00             89.99  69.996666   \n",
       "60293             10.00             29.99  66.655552   \n",
       "60294             29.44            117.75  74.997877   \n",
       "\n",
       "                                               Descricao Tamanho  \\\n",
       "0      Sandália anabela de tecido laminado vazado, fe...      37   \n",
       "1      Vestido camisa xadrez, com mangas 7/8. Bolsos ...       m   \n",
       "2      Vestido Farm cor verde militar, comprimento cu...       p   \n",
       "3      Colete em crochê, cor marrom claro, modelo com...       m   \n",
       "4      Vestido reto de tecido plano laranja escuro, c...      pp   \n",
       "...                                                  ...     ...   \n",
       "60290  Calça jeans com modelagem skinny, com dois bol...      44   \n",
       "60291  Vestido longo, com estampa floral colorida, da...       m   \n",
       "60292  Camisa branca, com bolso único na regiÃ£o do t...     18m   \n",
       "60293  Camisetinha raglan com decote fechado, manga c...       3   \n",
       "60294  Blusa feminina , verde, da Forever 21. Tecido ...       m   \n",
       "\n",
       "                Condicao     Cores  ... PalavraChave1 PalavraChave2  \\\n",
       "0      gentilmente usada   laranja  ...       Anabela          Laço   \n",
       "1      gentilmente usada  colorido  ...       Vestido        Camisa   \n",
       "2      nova com etiqueta     verde  ...       Vestido         Verde   \n",
       "3      gentilmente usada    marrom  ...        Colete            de   \n",
       "4      gentilmente usada   laranja  ...       Vestido       Laranja   \n",
       "...                  ...       ...  ...           ...           ...   \n",
       "60290  gentilmente usada      azul  ...         Calça         Jeans   \n",
       "60291  gentilmente usada  colorido  ...       Vestido         Longo   \n",
       "60292  gentilmente usada    branco  ...        Camisa        Branca   \n",
       "60293  gentilmente usada  colorido  ...      Camiseta      Infantil   \n",
       "60294  gentilmente usada     verde  ...         Blusa         Verde   \n",
       "\n",
       "      PalavraChave3 PalavraChave4 PalavraChave5 PalavraChave6 PalavraChave7  \\\n",
       "0           Laranja                                                           \n",
       "1            Xadrez           Mob                                             \n",
       "2           Militar          Farm                                             \n",
       "3            Crochê        Marrom         Claro                               \n",
       "4               com      Bolinhas         Azuis                               \n",
       "...             ...           ...           ...           ...           ...   \n",
       "60290        Skinny         Clock         House                               \n",
       "60291        Floral         Magia                                             \n",
       "60292          Zara                                                           \n",
       "60293        Raglan                                                           \n",
       "60294       Forever            21                                             \n",
       "\n",
       "      PalavraChave8 item cost  \n",
       "0                      1    0  \n",
       "1                      1    1  \n",
       "2                      1    0  \n",
       "3                      1    0  \n",
       "4                      1    0  \n",
       "...             ...  ...  ...  \n",
       "60290                  1    0  \n",
       "60291                  1    0  \n",
       "60292                  1    0  \n",
       "60293                  1    0  \n",
       "60294                  1    0  \n",
       "\n",
       "[60295 rows x 25 columns]"
      ]
     },
     "execution_count": 67,
     "metadata": {},
     "output_type": "execute_result"
    }
   ],
   "source": [
    "thrift_b['cost'] = thrift_b.apply(f, axis=1)\n",
    "thrift_b"
   ]
  },
  {
   "cell_type": "markdown",
   "metadata": {},
   "source": [
    "### 4.2.2 Training and Testing Data"
   ]
  },
  {
   "cell_type": "code",
   "execution_count": 68,
   "metadata": {},
   "outputs": [
    {
     "name": "stdout",
     "output_type": "stream",
     "text": [
      "scikit-learn version: 0.23.1\n"
     ]
    }
   ],
   "source": [
    "#Finally, let's import sklearn\n",
    "import sklearn\n",
    "print(\"scikit-learn version: {}\".format(sklearn.__version__))"
   ]
  },
  {
   "cell_type": "code",
   "execution_count": 69,
   "metadata": {},
   "outputs": [],
   "source": [
    "#Let's split the data into training and test sets\n",
    "from sklearn.model_selection import train_test_split\n",
    "text_train, text_test, y_train, y_test = train_test_split(thrift_b['Descricao'], thrift_b['cost'], random_state=0)"
   ]
  },
  {
   "cell_type": "code",
   "execution_count": 71,
   "metadata": {},
   "outputs": [
    {
     "name": "stdout",
     "output_type": "stream",
     "text": [
      "text_train shape: (45221,)\n",
      "y_train shape: (45221,)\n"
     ]
    }
   ],
   "source": [
    "print(\"text_train shape: {}\".format(text_train.shape))\n",
    "print(\"y_train shape: {}\".format(y_train.shape))"
   ]
  },
  {
   "cell_type": "code",
   "execution_count": 73,
   "metadata": {},
   "outputs": [
    {
     "name": "stdout",
     "output_type": "stream",
     "text": [
      "text_test shape: (15074,)\n",
      "y_test shape: (15074,)\n"
     ]
    }
   ],
   "source": [
    "#The split usually puts 75% of data in the training data, and 25% at the test data\n",
    "print(\"text_test shape: {}\".format(text_test.shape))\n",
    "print(\"y_test shape: {}\".format(y_test.shape))"
   ]
  },
  {
   "cell_type": "code",
   "execution_count": 74,
   "metadata": {},
   "outputs": [
    {
     "name": "stdout",
     "output_type": "stream",
     "text": [
      "type of text_train: <class 'pandas.core.series.Series'>\n",
      "length of text_train: 45221\n",
      "text_train[1]:\n",
      "Vestido camisa xadrez, com mangas 7/8. Bolsos laterais, faixa na cintura e abotoamento simples. Tamanho M.\n"
     ]
    }
   ],
   "source": [
    "print(\"type of text_train: {}\".format(type(text_train)))\n",
    "print(\"length of text_train: {}\".format(len(text_train)))\n",
    "print(\"text_train[1]:\\n{}\".format(text_train[1]))"
   ]
  },
  {
   "cell_type": "code",
   "execution_count": 75,
   "metadata": {},
   "outputs": [
    {
     "name": "stdout",
     "output_type": "stream",
     "text": [
      "Samples per class (training): [42773  2448]\n"
     ]
    }
   ],
   "source": [
    "print(\"Samples per class (training): {}\".format(np.bincount(y_train)))"
   ]
  },
  {
   "cell_type": "code",
   "execution_count": 76,
   "metadata": {},
   "outputs": [
    {
     "name": "stdout",
     "output_type": "stream",
     "text": [
      "type of text_test: <class 'pandas.core.series.Series'>\n",
      "type of y_train: <class 'pandas.core.series.Series'>\n",
      "type of y_test: <class 'pandas.core.series.Series'>\n"
     ]
    }
   ],
   "source": [
    "#Do the same for test dataset\n",
    "print(\"type of text_test: {}\".format(type(text_test)))\n",
    "print(\"type of y_train: {}\".format(type(y_train)))\n",
    "print(\"type of y_test: {}\".format(type(y_test)))"
   ]
  },
  {
   "cell_type": "markdown",
   "metadata": {},
   "source": [
    "### 4.2.3 Tokenization"
   ]
  },
  {
   "cell_type": "code",
   "execution_count": 77,
   "metadata": {},
   "outputs": [],
   "source": [
    "#let's use a transformer called CountVectorizer\n",
    "from sklearn.feature_extraction.text import CountVectorizer\n",
    "vect = CountVectorizer()"
   ]
  },
  {
   "cell_type": "code",
   "execution_count": 78,
   "metadata": {},
   "outputs": [
    {
     "name": "stdout",
     "output_type": "stream",
     "text": [
      "X_train:\n",
      "<45221x11783 sparse matrix of type '<class 'numpy.int64'>'\n",
      "\twith 764555 stored elements in Compressed Sparse Row format>\n"
     ]
    }
   ],
   "source": [
    "#Transform to unicode string\n",
    "X_train = vect.fit_transform(text_train.values.astype('U'))\n",
    "print(\"X_train:\\n{}\".format(repr(X_train)))"
   ]
  },
  {
   "cell_type": "code",
   "execution_count": 79,
   "metadata": {},
   "outputs": [
    {
     "name": "stdout",
     "output_type": "stream",
     "text": [
      "Number of features: 11783\n",
      "First 20 features:\n",
      "['00', '000', '001', '00p', '01', '02', '03', '04', '05', '06', '08', '0p', '10', '100', '100cm', '100cmx', '100x100', '101', '101cm', '102']\n",
      "Features 1000 to 1030:\n",
      "['apostando', 'aposte', 'apostrofe', 'apoá', 'apparel', 'apparels', 'apple', 'apresenta', 'apresentações', 'aprofundado', 'apropriada', 'apropriado', 'aproveita', 'aproveite', 'aproximadamente', 'apt9', 'aqua', 'aquamar', 'aquarela', 'aquario', 'aquela', 'aquele', 'ar', 'arabesco', 'arabescos', 'arabestos', 'aracaju', 'arallope', 'arame', 'aramell']\n",
      "Every 2000th feature:\n",
      "['00', 'bunch', 'ellya', 'joshua', 'omni', 'silk']\n"
     ]
    }
   ],
   "source": [
    "# Use get_feature_names method\n",
    "feature_names = vect.get_feature_names()\n",
    "print(\"Number of features: {}\".format(len(feature_names)))\n",
    "print(\"First 20 features:\\n{}\".format(feature_names[:20]))\n",
    "print(\"Features 1000 to 1030:\\n{}\".format(feature_names[1000:1030]))\n",
    "print(\"Every 2000th feature:\\n{}\".format(feature_names[::2000]))"
   ]
  },
  {
   "cell_type": "code",
   "execution_count": 80,
   "metadata": {
    "scrolled": true
   },
   "outputs": [
    {
     "name": "stderr",
     "output_type": "stream",
     "text": [
      "C:\\Users\\Pedro\\anaconda3\\lib\\site-packages\\sklearn\\linear_model\\_logistic.py:762: ConvergenceWarning: lbfgs failed to converge (status=1):\n",
      "STOP: TOTAL NO. of ITERATIONS REACHED LIMIT.\n",
      "\n",
      "Increase the number of iterations (max_iter) or scale the data as shown in:\n",
      "    https://scikit-learn.org/stable/modules/preprocessing.html\n",
      "Please also refer to the documentation for alternative solver options:\n",
      "    https://scikit-learn.org/stable/modules/linear_model.html#logistic-regression\n",
      "  n_iter_i = _check_optimize_result(\n",
      "C:\\Users\\Pedro\\anaconda3\\lib\\site-packages\\sklearn\\linear_model\\_logistic.py:762: ConvergenceWarning: lbfgs failed to converge (status=1):\n",
      "STOP: TOTAL NO. of ITERATIONS REACHED LIMIT.\n",
      "\n",
      "Increase the number of iterations (max_iter) or scale the data as shown in:\n",
      "    https://scikit-learn.org/stable/modules/preprocessing.html\n",
      "Please also refer to the documentation for alternative solver options:\n",
      "    https://scikit-learn.org/stable/modules/linear_model.html#logistic-regression\n",
      "  n_iter_i = _check_optimize_result(\n",
      "C:\\Users\\Pedro\\anaconda3\\lib\\site-packages\\sklearn\\linear_model\\_logistic.py:762: ConvergenceWarning: lbfgs failed to converge (status=1):\n",
      "STOP: TOTAL NO. of ITERATIONS REACHED LIMIT.\n",
      "\n",
      "Increase the number of iterations (max_iter) or scale the data as shown in:\n",
      "    https://scikit-learn.org/stable/modules/preprocessing.html\n",
      "Please also refer to the documentation for alternative solver options:\n",
      "    https://scikit-learn.org/stable/modules/linear_model.html#logistic-regression\n",
      "  n_iter_i = _check_optimize_result(\n",
      "C:\\Users\\Pedro\\anaconda3\\lib\\site-packages\\sklearn\\linear_model\\_logistic.py:762: ConvergenceWarning: lbfgs failed to converge (status=1):\n",
      "STOP: TOTAL NO. of ITERATIONS REACHED LIMIT.\n",
      "\n",
      "Increase the number of iterations (max_iter) or scale the data as shown in:\n",
      "    https://scikit-learn.org/stable/modules/preprocessing.html\n",
      "Please also refer to the documentation for alternative solver options:\n",
      "    https://scikit-learn.org/stable/modules/linear_model.html#logistic-regression\n",
      "  n_iter_i = _check_optimize_result(\n"
     ]
    },
    {
     "name": "stdout",
     "output_type": "stream",
     "text": [
      "Mean cross-validation accuracy: 0.95\n"
     ]
    },
    {
     "name": "stderr",
     "output_type": "stream",
     "text": [
      "C:\\Users\\Pedro\\anaconda3\\lib\\site-packages\\sklearn\\linear_model\\_logistic.py:762: ConvergenceWarning: lbfgs failed to converge (status=1):\n",
      "STOP: TOTAL NO. of ITERATIONS REACHED LIMIT.\n",
      "\n",
      "Increase the number of iterations (max_iter) or scale the data as shown in:\n",
      "    https://scikit-learn.org/stable/modules/preprocessing.html\n",
      "Please also refer to the documentation for alternative solver options:\n",
      "    https://scikit-learn.org/stable/modules/linear_model.html#logistic-regression\n",
      "  n_iter_i = _check_optimize_result(\n"
     ]
    }
   ],
   "source": [
    "#Let's build a classifier\n",
    "from sklearn.model_selection import cross_val_score\n",
    "from sklearn.linear_model import LogisticRegression\n",
    "scores = cross_val_score(LogisticRegression(), X_train, y_train, cv=5)\n",
    "print(\"Mean cross-validation accuracy: {:.2f}\".format(np.mean(scores)))"
   ]
  },
  {
   "cell_type": "code",
   "execution_count": 82,
   "metadata": {
    "scrolled": true
   },
   "outputs": [
    {
     "name": "stderr",
     "output_type": "stream",
     "text": [
      "C:\\Users\\Pedro\\anaconda3\\lib\\site-packages\\sklearn\\linear_model\\_logistic.py:762: ConvergenceWarning: lbfgs failed to converge (status=1):\n",
      "STOP: TOTAL NO. of ITERATIONS REACHED LIMIT.\n",
      "\n",
      "Increase the number of iterations (max_iter) or scale the data as shown in:\n",
      "    https://scikit-learn.org/stable/modules/preprocessing.html\n",
      "Please also refer to the documentation for alternative solver options:\n",
      "    https://scikit-learn.org/stable/modules/linear_model.html#logistic-regression\n",
      "  n_iter_i = _check_optimize_result(\n",
      "C:\\Users\\Pedro\\anaconda3\\lib\\site-packages\\sklearn\\linear_model\\_logistic.py:762: ConvergenceWarning: lbfgs failed to converge (status=1):\n",
      "STOP: TOTAL NO. of ITERATIONS REACHED LIMIT.\n",
      "\n",
      "Increase the number of iterations (max_iter) or scale the data as shown in:\n",
      "    https://scikit-learn.org/stable/modules/preprocessing.html\n",
      "Please also refer to the documentation for alternative solver options:\n",
      "    https://scikit-learn.org/stable/modules/linear_model.html#logistic-regression\n",
      "  n_iter_i = _check_optimize_result(\n",
      "C:\\Users\\Pedro\\anaconda3\\lib\\site-packages\\sklearn\\linear_model\\_logistic.py:762: ConvergenceWarning: lbfgs failed to converge (status=1):\n",
      "STOP: TOTAL NO. of ITERATIONS REACHED LIMIT.\n",
      "\n",
      "Increase the number of iterations (max_iter) or scale the data as shown in:\n",
      "    https://scikit-learn.org/stable/modules/preprocessing.html\n",
      "Please also refer to the documentation for alternative solver options:\n",
      "    https://scikit-learn.org/stable/modules/linear_model.html#logistic-regression\n",
      "  n_iter_i = _check_optimize_result(\n",
      "C:\\Users\\Pedro\\anaconda3\\lib\\site-packages\\sklearn\\linear_model\\_logistic.py:762: ConvergenceWarning: lbfgs failed to converge (status=1):\n",
      "STOP: TOTAL NO. of ITERATIONS REACHED LIMIT.\n",
      "\n",
      "Increase the number of iterations (max_iter) or scale the data as shown in:\n",
      "    https://scikit-learn.org/stable/modules/preprocessing.html\n",
      "Please also refer to the documentation for alternative solver options:\n",
      "    https://scikit-learn.org/stable/modules/linear_model.html#logistic-regression\n",
      "  n_iter_i = _check_optimize_result(\n",
      "C:\\Users\\Pedro\\anaconda3\\lib\\site-packages\\sklearn\\linear_model\\_logistic.py:762: ConvergenceWarning: lbfgs failed to converge (status=1):\n",
      "STOP: TOTAL NO. of ITERATIONS REACHED LIMIT.\n",
      "\n",
      "Increase the number of iterations (max_iter) or scale the data as shown in:\n",
      "    https://scikit-learn.org/stable/modules/preprocessing.html\n",
      "Please also refer to the documentation for alternative solver options:\n",
      "    https://scikit-learn.org/stable/modules/linear_model.html#logistic-regression\n",
      "  n_iter_i = _check_optimize_result(\n",
      "C:\\Users\\Pedro\\anaconda3\\lib\\site-packages\\sklearn\\linear_model\\_logistic.py:762: ConvergenceWarning: lbfgs failed to converge (status=1):\n",
      "STOP: TOTAL NO. of ITERATIONS REACHED LIMIT.\n",
      "\n",
      "Increase the number of iterations (max_iter) or scale the data as shown in:\n",
      "    https://scikit-learn.org/stable/modules/preprocessing.html\n",
      "Please also refer to the documentation for alternative solver options:\n",
      "    https://scikit-learn.org/stable/modules/linear_model.html#logistic-regression\n",
      "  n_iter_i = _check_optimize_result(\n",
      "C:\\Users\\Pedro\\anaconda3\\lib\\site-packages\\sklearn\\linear_model\\_logistic.py:762: ConvergenceWarning: lbfgs failed to converge (status=1):\n",
      "STOP: TOTAL NO. of ITERATIONS REACHED LIMIT.\n",
      "\n",
      "Increase the number of iterations (max_iter) or scale the data as shown in:\n",
      "    https://scikit-learn.org/stable/modules/preprocessing.html\n",
      "Please also refer to the documentation for alternative solver options:\n",
      "    https://scikit-learn.org/stable/modules/linear_model.html#logistic-regression\n",
      "  n_iter_i = _check_optimize_result(\n",
      "C:\\Users\\Pedro\\anaconda3\\lib\\site-packages\\sklearn\\linear_model\\_logistic.py:762: ConvergenceWarning: lbfgs failed to converge (status=1):\n",
      "STOP: TOTAL NO. of ITERATIONS REACHED LIMIT.\n",
      "\n",
      "Increase the number of iterations (max_iter) or scale the data as shown in:\n",
      "    https://scikit-learn.org/stable/modules/preprocessing.html\n",
      "Please also refer to the documentation for alternative solver options:\n",
      "    https://scikit-learn.org/stable/modules/linear_model.html#logistic-regression\n",
      "  n_iter_i = _check_optimize_result(\n",
      "C:\\Users\\Pedro\\anaconda3\\lib\\site-packages\\sklearn\\linear_model\\_logistic.py:762: ConvergenceWarning: lbfgs failed to converge (status=1):\n",
      "STOP: TOTAL NO. of ITERATIONS REACHED LIMIT.\n",
      "\n",
      "Increase the number of iterations (max_iter) or scale the data as shown in:\n",
      "    https://scikit-learn.org/stable/modules/preprocessing.html\n",
      "Please also refer to the documentation for alternative solver options:\n",
      "    https://scikit-learn.org/stable/modules/linear_model.html#logistic-regression\n",
      "  n_iter_i = _check_optimize_result(\n",
      "C:\\Users\\Pedro\\anaconda3\\lib\\site-packages\\sklearn\\linear_model\\_logistic.py:762: ConvergenceWarning: lbfgs failed to converge (status=1):\n",
      "STOP: TOTAL NO. of ITERATIONS REACHED LIMIT.\n",
      "\n",
      "Increase the number of iterations (max_iter) or scale the data as shown in:\n",
      "    https://scikit-learn.org/stable/modules/preprocessing.html\n",
      "Please also refer to the documentation for alternative solver options:\n",
      "    https://scikit-learn.org/stable/modules/linear_model.html#logistic-regression\n",
      "  n_iter_i = _check_optimize_result(\n"
     ]
    },
    {
     "name": "stdout",
     "output_type": "stream",
     "text": [
      "Best cross-validation score: 0.95\n",
      "Best parameters:  {'C': 1}\n"
     ]
    },
    {
     "name": "stderr",
     "output_type": "stream",
     "text": [
      "C:\\Users\\Pedro\\anaconda3\\lib\\site-packages\\sklearn\\linear_model\\_logistic.py:762: ConvergenceWarning: lbfgs failed to converge (status=1):\n",
      "STOP: TOTAL NO. of ITERATIONS REACHED LIMIT.\n",
      "\n",
      "Increase the number of iterations (max_iter) or scale the data as shown in:\n",
      "    https://scikit-learn.org/stable/modules/preprocessing.html\n",
      "Please also refer to the documentation for alternative solver options:\n",
      "    https://scikit-learn.org/stable/modules/linear_model.html#logistic-regression\n",
      "  n_iter_i = _check_optimize_result(\n"
     ]
    }
   ],
   "source": [
    "#We obtained 95%, which is interesting\n",
    "#Let's try to tune the C parameter of the LinearRegression\n",
    "from sklearn.model_selection import GridSearchCV\n",
    "param_grid = {'C': [0.001, 0.01, 0.1, 1, 10]}\n",
    "grid = GridSearchCV(LogisticRegression(), param_grid, cv=5)\n",
    "grid.fit(X_train, y_train)\n",
    "print(\"Best cross-validation score: {:.2f}\".format(grid.best_score_))\n",
    "print(\"Best parameters: \", grid.best_params_)"
   ]
  },
  {
   "cell_type": "code",
   "execution_count": 83,
   "metadata": {},
   "outputs": [
    {
     "name": "stdout",
     "output_type": "stream",
     "text": [
      "0.96\n"
     ]
    }
   ],
   "source": [
    "#generalised performance\n",
    "print(\"{:.2f}\".format(grid.score(X_train, y_train)))"
   ]
  },
  {
   "cell_type": "code",
   "execution_count": 84,
   "metadata": {},
   "outputs": [],
   "source": [
    "X_test = vect.transform(text_test.values.astype('U'))"
   ]
  },
  {
   "cell_type": "code",
   "execution_count": 85,
   "metadata": {
    "scrolled": true
   },
   "outputs": [
    {
     "name": "stderr",
     "output_type": "stream",
     "text": [
      "C:\\Users\\Pedro\\anaconda3\\lib\\site-packages\\sklearn\\linear_model\\_logistic.py:762: ConvergenceWarning: lbfgs failed to converge (status=1):\n",
      "STOP: TOTAL NO. of ITERATIONS REACHED LIMIT.\n",
      "\n",
      "Increase the number of iterations (max_iter) or scale the data as shown in:\n",
      "    https://scikit-learn.org/stable/modules/preprocessing.html\n",
      "Please also refer to the documentation for alternative solver options:\n",
      "    https://scikit-learn.org/stable/modules/linear_model.html#logistic-regression\n",
      "  n_iter_i = _check_optimize_result(\n",
      "C:\\Users\\Pedro\\anaconda3\\lib\\site-packages\\sklearn\\linear_model\\_logistic.py:762: ConvergenceWarning: lbfgs failed to converge (status=1):\n",
      "STOP: TOTAL NO. of ITERATIONS REACHED LIMIT.\n",
      "\n",
      "Increase the number of iterations (max_iter) or scale the data as shown in:\n",
      "    https://scikit-learn.org/stable/modules/preprocessing.html\n",
      "Please also refer to the documentation for alternative solver options:\n",
      "    https://scikit-learn.org/stable/modules/linear_model.html#logistic-regression\n",
      "  n_iter_i = _check_optimize_result(\n",
      "C:\\Users\\Pedro\\anaconda3\\lib\\site-packages\\sklearn\\linear_model\\_logistic.py:762: ConvergenceWarning: lbfgs failed to converge (status=1):\n",
      "STOP: TOTAL NO. of ITERATIONS REACHED LIMIT.\n",
      "\n",
      "Increase the number of iterations (max_iter) or scale the data as shown in:\n",
      "    https://scikit-learn.org/stable/modules/preprocessing.html\n",
      "Please also refer to the documentation for alternative solver options:\n",
      "    https://scikit-learn.org/stable/modules/linear_model.html#logistic-regression\n",
      "  n_iter_i = _check_optimize_result(\n",
      "C:\\Users\\Pedro\\anaconda3\\lib\\site-packages\\sklearn\\linear_model\\_logistic.py:762: ConvergenceWarning: lbfgs failed to converge (status=1):\n",
      "STOP: TOTAL NO. of ITERATIONS REACHED LIMIT.\n",
      "\n",
      "Increase the number of iterations (max_iter) or scale the data as shown in:\n",
      "    https://scikit-learn.org/stable/modules/preprocessing.html\n",
      "Please also refer to the documentation for alternative solver options:\n",
      "    https://scikit-learn.org/stable/modules/linear_model.html#logistic-regression\n",
      "  n_iter_i = _check_optimize_result(\n",
      "C:\\Users\\Pedro\\anaconda3\\lib\\site-packages\\sklearn\\linear_model\\_logistic.py:762: ConvergenceWarning: lbfgs failed to converge (status=1):\n",
      "STOP: TOTAL NO. of ITERATIONS REACHED LIMIT.\n",
      "\n",
      "Increase the number of iterations (max_iter) or scale the data as shown in:\n",
      "    https://scikit-learn.org/stable/modules/preprocessing.html\n",
      "Please also refer to the documentation for alternative solver options:\n",
      "    https://scikit-learn.org/stable/modules/linear_model.html#logistic-regression\n",
      "  n_iter_i = _check_optimize_result(\n",
      "C:\\Users\\Pedro\\anaconda3\\lib\\site-packages\\sklearn\\linear_model\\_logistic.py:762: ConvergenceWarning: lbfgs failed to converge (status=1):\n",
      "STOP: TOTAL NO. of ITERATIONS REACHED LIMIT.\n",
      "\n",
      "Increase the number of iterations (max_iter) or scale the data as shown in:\n",
      "    https://scikit-learn.org/stable/modules/preprocessing.html\n",
      "Please also refer to the documentation for alternative solver options:\n",
      "    https://scikit-learn.org/stable/modules/linear_model.html#logistic-regression\n",
      "  n_iter_i = _check_optimize_result(\n",
      "C:\\Users\\Pedro\\anaconda3\\lib\\site-packages\\sklearn\\linear_model\\_logistic.py:762: ConvergenceWarning: lbfgs failed to converge (status=1):\n",
      "STOP: TOTAL NO. of ITERATIONS REACHED LIMIT.\n",
      "\n",
      "Increase the number of iterations (max_iter) or scale the data as shown in:\n",
      "    https://scikit-learn.org/stable/modules/preprocessing.html\n",
      "Please also refer to the documentation for alternative solver options:\n",
      "    https://scikit-learn.org/stable/modules/linear_model.html#logistic-regression\n",
      "  n_iter_i = _check_optimize_result(\n",
      "C:\\Users\\Pedro\\anaconda3\\lib\\site-packages\\sklearn\\linear_model\\_logistic.py:762: ConvergenceWarning: lbfgs failed to converge (status=1):\n",
      "STOP: TOTAL NO. of ITERATIONS REACHED LIMIT.\n",
      "\n",
      "Increase the number of iterations (max_iter) or scale the data as shown in:\n",
      "    https://scikit-learn.org/stable/modules/preprocessing.html\n",
      "Please also refer to the documentation for alternative solver options:\n",
      "    https://scikit-learn.org/stable/modules/linear_model.html#logistic-regression\n",
      "  n_iter_i = _check_optimize_result(\n",
      "C:\\Users\\Pedro\\anaconda3\\lib\\site-packages\\sklearn\\linear_model\\_logistic.py:762: ConvergenceWarning: lbfgs failed to converge (status=1):\n",
      "STOP: TOTAL NO. of ITERATIONS REACHED LIMIT.\n",
      "\n",
      "Increase the number of iterations (max_iter) or scale the data as shown in:\n",
      "    https://scikit-learn.org/stable/modules/preprocessing.html\n",
      "Please also refer to the documentation for alternative solver options:\n",
      "    https://scikit-learn.org/stable/modules/linear_model.html#logistic-regression\n",
      "  n_iter_i = _check_optimize_result(\n",
      "C:\\Users\\Pedro\\anaconda3\\lib\\site-packages\\sklearn\\linear_model\\_logistic.py:762: ConvergenceWarning: lbfgs failed to converge (status=1):\n",
      "STOP: TOTAL NO. of ITERATIONS REACHED LIMIT.\n",
      "\n",
      "Increase the number of iterations (max_iter) or scale the data as shown in:\n",
      "    https://scikit-learn.org/stable/modules/preprocessing.html\n",
      "Please also refer to the documentation for alternative solver options:\n",
      "    https://scikit-learn.org/stable/modules/linear_model.html#logistic-regression\n",
      "  n_iter_i = _check_optimize_result(\n"
     ]
    },
    {
     "data": {
      "text/plain": [
       "GridSearchCV(cv=5, estimator=LogisticRegression(),\n",
       "             param_grid={'C': [0.001, 0.01, 0.1, 1, 10]})"
      ]
     },
     "execution_count": 85,
     "metadata": {},
     "output_type": "execute_result"
    }
   ],
   "source": [
    "#It's important to fit the X-test and y_test into the same grid\n",
    "\n",
    "grid.fit(X_test, y_test)"
   ]
  },
  {
   "cell_type": "code",
   "execution_count": 86,
   "metadata": {},
   "outputs": [
    {
     "name": "stdout",
     "output_type": "stream",
     "text": [
      "0.95\n"
     ]
    }
   ],
   "source": [
    "print(\"{:.2f}\".format(grid.score(X_test, y_test)))"
   ]
  },
  {
   "cell_type": "markdown",
   "metadata": {},
   "source": [
    "So, that is what we've got! 75% in the test dataset. We certainly could improve the extraction of words.\n",
    "Whenever we change the value that we divide `caro`and `barato`, we usually get an improvement in this value, until it starts to descend due to the lack of available samples.\n",
    "\n",
    "So, when the value of the dataset is:\n",
    "- 25.90 reais (which is the median) -> 75 %\n",
    "- 100.00 reais -> 95 %\n",
    "\n",
    "Further on, I could certainly write a pipeline to know how to distribute the values that I use to define which values are cheap or expensive.\n",
    "\n",
    "It would be interesting to eliminate stopwords (that are words that appear too frequently but are not related to the meaning of the individual terms; for instance, prepositions). However, dictionary of stopwords in portuguese are not readily available, so we will have to skip this step for now."
   ]
  },
  {
   "cell_type": "code",
   "execution_count": 87,
   "metadata": {},
   "outputs": [],
   "source": [
    "from sklearn.feature_extraction.text import TfidfVectorizer\n",
    "from sklearn.pipeline import make_pipeline"
   ]
  },
  {
   "cell_type": "code",
   "execution_count": 88,
   "metadata": {},
   "outputs": [],
   "source": [
    "pipe = make_pipeline(TfidfVectorizer(min_df=5, norm=None),LogisticRegression())\n",
    "param_grid = {'logisticregression__C': [0.001, 0.01, 0.1, 1, 10]}\n"
   ]
  },
  {
   "cell_type": "code",
   "execution_count": 91,
   "metadata": {
    "scrolled": true
   },
   "outputs": [
    {
     "name": "stderr",
     "output_type": "stream",
     "text": [
      "C:\\Users\\Pedro\\anaconda3\\lib\\site-packages\\sklearn\\linear_model\\_logistic.py:762: ConvergenceWarning: lbfgs failed to converge (status=1):\n",
      "STOP: TOTAL NO. of ITERATIONS REACHED LIMIT.\n",
      "\n",
      "Increase the number of iterations (max_iter) or scale the data as shown in:\n",
      "    https://scikit-learn.org/stable/modules/preprocessing.html\n",
      "Please also refer to the documentation for alternative solver options:\n",
      "    https://scikit-learn.org/stable/modules/linear_model.html#logistic-regression\n",
      "  n_iter_i = _check_optimize_result(\n",
      "C:\\Users\\Pedro\\anaconda3\\lib\\site-packages\\sklearn\\linear_model\\_logistic.py:762: ConvergenceWarning: lbfgs failed to converge (status=1):\n",
      "STOP: TOTAL NO. of ITERATIONS REACHED LIMIT.\n",
      "\n",
      "Increase the number of iterations (max_iter) or scale the data as shown in:\n",
      "    https://scikit-learn.org/stable/modules/preprocessing.html\n",
      "Please also refer to the documentation for alternative solver options:\n",
      "    https://scikit-learn.org/stable/modules/linear_model.html#logistic-regression\n",
      "  n_iter_i = _check_optimize_result(\n",
      "C:\\Users\\Pedro\\anaconda3\\lib\\site-packages\\sklearn\\linear_model\\_logistic.py:762: ConvergenceWarning: lbfgs failed to converge (status=1):\n",
      "STOP: TOTAL NO. of ITERATIONS REACHED LIMIT.\n",
      "\n",
      "Increase the number of iterations (max_iter) or scale the data as shown in:\n",
      "    https://scikit-learn.org/stable/modules/preprocessing.html\n",
      "Please also refer to the documentation for alternative solver options:\n",
      "    https://scikit-learn.org/stable/modules/linear_model.html#logistic-regression\n",
      "  n_iter_i = _check_optimize_result(\n",
      "C:\\Users\\Pedro\\anaconda3\\lib\\site-packages\\sklearn\\linear_model\\_logistic.py:762: ConvergenceWarning: lbfgs failed to converge (status=1):\n",
      "STOP: TOTAL NO. of ITERATIONS REACHED LIMIT.\n",
      "\n",
      "Increase the number of iterations (max_iter) or scale the data as shown in:\n",
      "    https://scikit-learn.org/stable/modules/preprocessing.html\n",
      "Please also refer to the documentation for alternative solver options:\n",
      "    https://scikit-learn.org/stable/modules/linear_model.html#logistic-regression\n",
      "  n_iter_i = _check_optimize_result(\n",
      "C:\\Users\\Pedro\\anaconda3\\lib\\site-packages\\sklearn\\linear_model\\_logistic.py:762: ConvergenceWarning: lbfgs failed to converge (status=1):\n",
      "STOP: TOTAL NO. of ITERATIONS REACHED LIMIT.\n",
      "\n",
      "Increase the number of iterations (max_iter) or scale the data as shown in:\n",
      "    https://scikit-learn.org/stable/modules/preprocessing.html\n",
      "Please also refer to the documentation for alternative solver options:\n",
      "    https://scikit-learn.org/stable/modules/linear_model.html#logistic-regression\n",
      "  n_iter_i = _check_optimize_result(\n",
      "C:\\Users\\Pedro\\anaconda3\\lib\\site-packages\\sklearn\\linear_model\\_logistic.py:762: ConvergenceWarning: lbfgs failed to converge (status=1):\n",
      "STOP: TOTAL NO. of ITERATIONS REACHED LIMIT.\n",
      "\n",
      "Increase the number of iterations (max_iter) or scale the data as shown in:\n",
      "    https://scikit-learn.org/stable/modules/preprocessing.html\n",
      "Please also refer to the documentation for alternative solver options:\n",
      "    https://scikit-learn.org/stable/modules/linear_model.html#logistic-regression\n",
      "  n_iter_i = _check_optimize_result(\n",
      "C:\\Users\\Pedro\\anaconda3\\lib\\site-packages\\sklearn\\linear_model\\_logistic.py:762: ConvergenceWarning: lbfgs failed to converge (status=1):\n",
      "STOP: TOTAL NO. of ITERATIONS REACHED LIMIT.\n",
      "\n",
      "Increase the number of iterations (max_iter) or scale the data as shown in:\n",
      "    https://scikit-learn.org/stable/modules/preprocessing.html\n",
      "Please also refer to the documentation for alternative solver options:\n",
      "    https://scikit-learn.org/stable/modules/linear_model.html#logistic-regression\n",
      "  n_iter_i = _check_optimize_result(\n",
      "C:\\Users\\Pedro\\anaconda3\\lib\\site-packages\\sklearn\\linear_model\\_logistic.py:762: ConvergenceWarning: lbfgs failed to converge (status=1):\n",
      "STOP: TOTAL NO. of ITERATIONS REACHED LIMIT.\n",
      "\n",
      "Increase the number of iterations (max_iter) or scale the data as shown in:\n",
      "    https://scikit-learn.org/stable/modules/preprocessing.html\n",
      "Please also refer to the documentation for alternative solver options:\n",
      "    https://scikit-learn.org/stable/modules/linear_model.html#logistic-regression\n",
      "  n_iter_i = _check_optimize_result(\n",
      "C:\\Users\\Pedro\\anaconda3\\lib\\site-packages\\sklearn\\linear_model\\_logistic.py:762: ConvergenceWarning: lbfgs failed to converge (status=1):\n",
      "STOP: TOTAL NO. of ITERATIONS REACHED LIMIT.\n",
      "\n",
      "Increase the number of iterations (max_iter) or scale the data as shown in:\n",
      "    https://scikit-learn.org/stable/modules/preprocessing.html\n",
      "Please also refer to the documentation for alternative solver options:\n",
      "    https://scikit-learn.org/stable/modules/linear_model.html#logistic-regression\n",
      "  n_iter_i = _check_optimize_result(\n",
      "C:\\Users\\Pedro\\anaconda3\\lib\\site-packages\\sklearn\\linear_model\\_logistic.py:762: ConvergenceWarning: lbfgs failed to converge (status=1):\n",
      "STOP: TOTAL NO. of ITERATIONS REACHED LIMIT.\n",
      "\n",
      "Increase the number of iterations (max_iter) or scale the data as shown in:\n",
      "    https://scikit-learn.org/stable/modules/preprocessing.html\n",
      "Please also refer to the documentation for alternative solver options:\n",
      "    https://scikit-learn.org/stable/modules/linear_model.html#logistic-regression\n",
      "  n_iter_i = _check_optimize_result(\n",
      "C:\\Users\\Pedro\\anaconda3\\lib\\site-packages\\sklearn\\linear_model\\_logistic.py:762: ConvergenceWarning: lbfgs failed to converge (status=1):\n",
      "STOP: TOTAL NO. of ITERATIONS REACHED LIMIT.\n",
      "\n",
      "Increase the number of iterations (max_iter) or scale the data as shown in:\n",
      "    https://scikit-learn.org/stable/modules/preprocessing.html\n",
      "Please also refer to the documentation for alternative solver options:\n",
      "    https://scikit-learn.org/stable/modules/linear_model.html#logistic-regression\n",
      "  n_iter_i = _check_optimize_result(\n",
      "C:\\Users\\Pedro\\anaconda3\\lib\\site-packages\\sklearn\\linear_model\\_logistic.py:762: ConvergenceWarning: lbfgs failed to converge (status=1):\n",
      "STOP: TOTAL NO. of ITERATIONS REACHED LIMIT.\n",
      "\n",
      "Increase the number of iterations (max_iter) or scale the data as shown in:\n",
      "    https://scikit-learn.org/stable/modules/preprocessing.html\n",
      "Please also refer to the documentation for alternative solver options:\n",
      "    https://scikit-learn.org/stable/modules/linear_model.html#logistic-regression\n",
      "  n_iter_i = _check_optimize_result(\n",
      "C:\\Users\\Pedro\\anaconda3\\lib\\site-packages\\sklearn\\linear_model\\_logistic.py:762: ConvergenceWarning: lbfgs failed to converge (status=1):\n",
      "STOP: TOTAL NO. of ITERATIONS REACHED LIMIT.\n",
      "\n",
      "Increase the number of iterations (max_iter) or scale the data as shown in:\n",
      "    https://scikit-learn.org/stable/modules/preprocessing.html\n",
      "Please also refer to the documentation for alternative solver options:\n",
      "    https://scikit-learn.org/stable/modules/linear_model.html#logistic-regression\n",
      "  n_iter_i = _check_optimize_result(\n",
      "C:\\Users\\Pedro\\anaconda3\\lib\\site-packages\\sklearn\\linear_model\\_logistic.py:762: ConvergenceWarning: lbfgs failed to converge (status=1):\n",
      "STOP: TOTAL NO. of ITERATIONS REACHED LIMIT.\n",
      "\n",
      "Increase the number of iterations (max_iter) or scale the data as shown in:\n",
      "    https://scikit-learn.org/stable/modules/preprocessing.html\n",
      "Please also refer to the documentation for alternative solver options:\n",
      "    https://scikit-learn.org/stable/modules/linear_model.html#logistic-regression\n",
      "  n_iter_i = _check_optimize_result(\n",
      "C:\\Users\\Pedro\\anaconda3\\lib\\site-packages\\sklearn\\linear_model\\_logistic.py:762: ConvergenceWarning: lbfgs failed to converge (status=1):\n",
      "STOP: TOTAL NO. of ITERATIONS REACHED LIMIT.\n",
      "\n",
      "Increase the number of iterations (max_iter) or scale the data as shown in:\n",
      "    https://scikit-learn.org/stable/modules/preprocessing.html\n",
      "Please also refer to the documentation for alternative solver options:\n",
      "    https://scikit-learn.org/stable/modules/linear_model.html#logistic-regression\n",
      "  n_iter_i = _check_optimize_result(\n"
     ]
    },
    {
     "name": "stdout",
     "output_type": "stream",
     "text": [
      "Best cross-validation score: 0.95\n"
     ]
    }
   ],
   "source": [
    "grid = GridSearchCV(pipe, param_grid, cv=5)\n",
    "text_train2 = text_train.fillna(' ')\n",
    "grid.fit(text_train2, y_train)\n",
    "print(\"Best cross-validation score: {:.2f}\".format(grid.best_score_))"
   ]
  },
  {
   "cell_type": "code",
   "execution_count": 92,
   "metadata": {},
   "outputs": [
    {
     "name": "stdout",
     "output_type": "stream",
     "text": [
      "Features with lowest tfidf:\n",
      "['feminina' 'feminino' 'modelagem' 'acinturada' 'careca' 'ajustada'\n",
      " 'compridas' 'reta' 'nadador' 'pockets' 'renner' 'suéter' 'five'\n",
      " 'retangular' 'estampa' 'baixa' 'tecido' 'fixas' 'viscose' 'legging']\n",
      "Features with highest tfidf: \n",
      "['lindo' 'ou' 'cobre' 'uma' 'fita' 'tem' 'usado' 'compartimento' 'pérola'\n",
      " 'regiã' 'lilás' 'mochila' 'camada' 'ilhóses' 'plissados' 'porta' 'tachas'\n",
      " 'num' 'cm' 'velho']\n"
     ]
    }
   ],
   "source": [
    "vectorizer = grid.best_estimator_.named_steps[\"tfidfvectorizer\"]\n",
    "# transform the training dataset\n",
    "X_train = vectorizer.transform(text_train)\n",
    "# find maximum value for each of the features over the dataset\n",
    "max_value = X_train.max(axis=0).toarray().ravel()\n",
    "sorted_by_tfidf = max_value.argsort()\n",
    "# get feature names\n",
    "feature_names = np.array(vectorizer.get_feature_names())\n",
    "print(\"Features with lowest tfidf:\\n{}\".format(\n",
    "feature_names[sorted_by_tfidf[:20]]))\n",
    "print(\"Features with highest tfidf: \\n{}\".format(\n",
    "feature_names[sorted_by_tfidf[-20:]]))"
   ]
  },
  {
   "cell_type": "code",
   "execution_count": 93,
   "metadata": {},
   "outputs": [
    {
     "name": "stdout",
     "output_type": "stream",
     "text": [
      "Features with lowest idf:\n",
      "['com' 'de' 'tecido' 'modelagem' 'em' 'da' 'fechamento' 'na' 'por'\n",
      " 'decote' 'mangas' 'malha' 'zíper' 'plano' 'reta' 'bolsos' 'vestido' 'cor'\n",
      " 'azul' 'estampa' 'no' 'modelo' 'cintura' 'feminina' 'frontal' 'sem'\n",
      " 'calça' 'preta' 'gola' 'preto' 'abotoamento' 'curtas' 'elástico'\n",
      " 'tamanho' 'nas' 'longas' 'parte' 'blusa' 'saia' 'dois' 'botões'\n",
      " 'arredondado' 'botão' 'forro' 'frente' 'costas' 'cinza' 'detalhe' 'rosa'\n",
      " 'comprimento' 'tom' 'camisa' 'jeans' 'verde' 'branca' 'blusinha'\n",
      " 'feminino' 'branco' 'cós' 'manga' 'do' 'barra' 'alças' 'marrom' 'curto'\n",
      " 'marca' 'lateral' 'busto' 'amarração' 'renda' 'etiqueta' 'um' 'evasê'\n",
      " 'bege' 'laterais' 'camiseta' 'detalhes' 'regular' 'para' 'estampado'\n",
      " 'canoa' 'peça' 'floral' 'colarinho' 'regata' 'invisível' 'metal' 'tons'\n",
      " 'ampla' 'acinturada' 'colorida' 'salto' 'infantil' 'centro' 'shorts'\n",
      " 'possui' 'careca' 'estampada' 'corpo' 'região']\n"
     ]
    }
   ],
   "source": [
    "sorted_by_idf = np.argsort(vectorizer.idf_)\n",
    "print(\"Features with lowest idf:\\n{}\".format(\n",
    "feature_names[sorted_by_idf[:100]]))"
   ]
  },
  {
   "cell_type": "code",
   "execution_count": 94,
   "metadata": {},
   "outputs": [
    {
     "data": {
      "image/png": "[encoded data removed]",
      "text/plain": [
       "<Figure size 1080x360 with 1 Axes>"
      ]
     },
     "metadata": {
      "needs_background": "light"
     },
     "output_type": "display_data"
    }
   ],
   "source": [
    "mglearn.tools.visualize_coefficients(\n",
    "grid.best_estimator_.named_steps[\"logisticregression\"].coef_,\n",
    "feature_names, n_top_features=40)"
   ]
  },
  {
   "cell_type": "markdown",
   "metadata": {},
   "source": [
    "This last diagram shows which brands are hierarchically related to cheap or expensive products.\n",
    "The features were chosen by the algorhythm with the intent to best express the terms that are linked to each sample group.\n",
    "Therefore, on the left end, with the red bars, we have the term \"infantil\" for children's clothes, and the terms \"hering\". \"renner\", \"marisa\" and \"riachuelo\" that are some of the biggest retail stores in Brazil. The fact that these terms are clustered towards the more cheap products makes sense.\n",
    "\n",
    "On the other end, at the highest blue bars, we also have the clustering of more expensive brands. \"Animale\", according to our analysis, is the most expensive brand at Thrift Store B. \n",
    "\n",
    "\"Chá\" is not especifically related to any brand, since there are many that have \"chá\" in their name, such as \"Rosa Chá\", \"Chá & Mel\", \"Chá Verde\", and even as a colour description (for \"Chá\" means *tea*). Most of the weight of these features may be brought by the \"Rosa Chá\" brand that, for our knowledge, is indeed expensive. \n",
    "\n",
    "\"Diesel\" comes on third, and might refer to a very fashionable and sophisticated clothes colouring.\n",
    "\n",
    "\"Seda\", which stands for *silk*, is a luxury product since Antiquity. Hence, it is well-represented in as the fourth most expensive-related term in our dataset."
   ]
  },
  {
   "cell_type": "markdown",
   "metadata": {},
   "source": [
    "## Conclusions\n",
    "- Thrift Store data contains multiple text cells, and basic NLP techniques were required to extract more useful informations about the items that are being sold (what they are, what brand they are, how much they cost.)\n",
    "- Most thrift stores (A and B) work with a somewhat fixed discount value of about 60-80 % that is applied to most clothes.\n",
    "    - The full price might represent the value of the piece of clothing at the store, new.\n",
    "    - The discount price might represent the value of the piece of clothing for being second-hand. Hence, it is applied to most clothes.\n",
    "- Thrift Store C sells clothes directly from Buenos Aires. Most of its profits might come from currency exchange.\n",
    "- Thrift Store A sells the more expensive items. Thrift Store C sells the cheaper ones."
   ]
  }
 ],
 "metadata": {
  "kernelspec": {
   "display_name": "Python 3",
   "language": "python",
   "name": "python3"
  },
  "language_info": {
   "codemirror_mode": {
    "name": "ipython",
    "version": 3
   },
   "file_extension": ".py",
   "mimetype": "text/x-python",
   "name": "python",
   "nbconvert_exporter": "python",
   "pygments_lexer": "ipython3",
   "version": "3.8.3"
  }
 },
 "nbformat": 4,
 "nbformat_minor": 4
}
